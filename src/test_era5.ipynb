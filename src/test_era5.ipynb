{
 "cells": [
  {
   "cell_type": "markdown",
   "metadata": {},
   "source": [
    "after 3d is completed, use model interface<br>"
   ]
  },
  {
   "cell_type": "code",
   "execution_count": 52,
   "metadata": {},
   "outputs": [],
   "source": [
    "from numba import njit, prange\n",
    "import numpy as np\n",
    "import warnings\n",
    "import xarray as xr\n",
    "import matplotlib.pyplot as plt\n",
    "warnings.filterwarnings('ignore')"
   ]
  },
  {
   "cell_type": "code",
   "execution_count": 6,
   "metadata": {
    "tags": []
   },
   "outputs": [],
   "source": [
    "# @njit(parallel=True)\n",
    "# def interpolate_speeds(speed_data, heights_data, target_heights_data):\n",
    "#     n_times, n_levels, n_lat, n_lon = speed_data.shape\n",
    "#     interpolated = np.empty((n_times, len(target_heights_data), n_lat, n_lon))\n",
    "    \n",
    "#     for i in prange(n_times):\n",
    "#         for j in prange(len(target_heights_data)):\n",
    "#             for k in prange(n_lat):\n",
    "#                 for l in prange(n_lon):\n",
    "#                     target = target_heights_data[l]\n",
    "#                     # Find bracketing heights\n",
    "#                     for m in prange(n_levels-1):\n",
    "#                         if heights_data[m] <= target <= heights_data[m+1]:\n",
    "#                             # Linear interpolation\n",
    "#                             frac = (target - heights_data[m]) / (heights_data[m+1] - heights_data[m])\n",
    "#                             interpolated[i, j, k, l] = speed_data[i, j, k, m] + frac * (speed_data[i, j, k, m+1] - speed_data[i, j, k, m])\n",
    "#                             break\n",
    "#     return interpolated"
   ]
  },
  {
   "cell_type": "code",
   "execution_count": 123,
   "metadata": {},
   "outputs": [],
   "source": [
    "ds2 = xr.open_dataset('./sample.nc')"
   ]
  },
  {
   "cell_type": "code",
   "execution_count": 124,
   "metadata": {},
   "outputs": [],
   "source": [
    "u = ds2['u']\n",
    "v = ds2['v']\n",
    "levels = ds2['level']"
   ]
  },
  {
   "cell_type": "code",
   "execution_count": 144,
   "metadata": {},
   "outputs": [],
   "source": [
    "speed = np.sqrt(u**2 + v**2)"
   ]
  },
  {
   "cell_type": "code",
   "execution_count": 165,
   "metadata": {},
   "outputs": [],
   "source": [
    "speed_loc1 = speed.values[0, :, 20, 20]"
   ]
  },
  {
   "cell_type": "code",
   "execution_count": 29,
   "metadata": {},
   "outputs": [],
   "source": [
    "level_to_height = {\n",
    "    131: 169.50,\n",
    "    132: 136.62,\n",
    "    133: 106.54,\n",
    "    134: 79.04,\n",
    "    135: 53.92,\n",
    "    136: 30.96,\n",
    "    137: 10\n",
    "}"
   ]
  },
  {
   "cell_type": "code",
   "execution_count": 166,
   "metadata": {},
   "outputs": [],
   "source": [
    "heights = np.array([level_to_height[int(l.values)] for l in levels])"
   ]
  },
  {
   "cell_type": "code",
   "execution_count": 113,
   "metadata": {},
   "outputs": [],
   "source": [
    "# @njit(parallel=True)\n",
    "# def interpolator(x, y_values, x_values=heights):\n",
    "#     n = len(x_values)\n",
    "#     result = 0.0\n",
    "#     for i in range(n):\n",
    "#         term = y_values[i]\n",
    "#         for j in range(n):\n",
    "#             if j != i:\n",
    "#                 term = term * (x - x_values[j]) / (x_values[i] - x_values[j])\n",
    "#         result += term\n",
    "#     return result"
   ]
  },
  {
   "cell_type": "code",
   "execution_count": 167,
   "metadata": {},
   "outputs": [],
   "source": [
    "target_height = np.linspace(10, 169.5, 10)"
   ]
  },
  {
   "cell_type": "code",
   "execution_count": 168,
   "metadata": {},
   "outputs": [],
   "source": [
    "@njit(parallel=True)\n",
    "def coef(y_values, x_values=heights):\n",
    "    n = len(x_values)\n",
    "    coef = np.zeros(n)\n",
    "\n",
    "    for i in range(n):\n",
    "        term = y_values[i]\n",
    "        for j in range(n):\n",
    "            if j != i:\n",
    "                term = term / (x_values[i] - x_values[j])\n",
    "        coef[i] = term\n",
    "\n",
    "    return coef"
   ]
  },
  {
   "cell_type": "code",
   "execution_count": 169,
   "metadata": {},
   "outputs": [],
   "source": [
    "@njit(parallel=True)\n",
    "def interpolator(target, coef, x_values=heights):\n",
    "    n = len(coef)\n",
    "    result = 0.0\n",
    "    for i in prange(n):\n",
    "        term = coef[i]\n",
    "        for j in prange(n):\n",
    "            if j != i:\n",
    "                term = term * (target - x_values[j])\n",
    "        result += term\n",
    "    return result"
   ]
  },
  {
   "cell_type": "code",
   "execution_count": 170,
   "metadata": {},
   "outputs": [],
   "source": [
    "coefficients = coef(speed_loc1)"
   ]
  },
  {
   "cell_type": "code",
   "execution_count": 171,
   "metadata": {},
   "outputs": [],
   "source": [
    "interpolated_speed1 = []\n",
    "for h in target_height:\n",
    "    interpolated_speed1.append(interpolator(h, coefficients))"
   ]
  },
  {
   "cell_type": "code",
   "execution_count": 174,
   "metadata": {},
   "outputs": [
    {
     "data": {
      "image/png": "[encoded data removed]",
      "text/plain": [
       "<Figure size 640x480 with 1 Axes>"
      ]
     },
     "metadata": {},
     "output_type": "display_data"
    }
   ],
   "source": [
    "plt.plot(target_height, interpolated_speed1, 'o');\n",
    "plt.plot(heights, speed_loc1);"
   ]
  },
  {
   "cell_type": "markdown",
   "metadata": {},
   "source": [
    "### ERA5 Testing"
   ]
  },
  {
   "cell_type": "code",
   "execution_count": 8,
   "metadata": {},
   "outputs": [],
   "source": [
    "import logging\n",
    "logging.basicConfig(level=logging.INFO)\n",
    "import geodata\n",
    "from geodata.model.wind import WindInterpolationModel"
   ]
  },
  {
   "cell_type": "code",
   "execution_count": 9,
   "metadata": {},
   "outputs": [
    {
     "name": "stderr",
     "output_type": "stream",
     "text": [
      "\u001b[32m2023-09-22 10:22:53,857 - geodata.dataset - INFO - Directory /Users/apple/.local/geodata/era5 found, checking for completeness.\u001b[0m\n",
      "\u001b[32m2023-09-22 10:22:53,858 - geodata.dataset - INFO - Directory complete.\u001b[0m\n"
     ]
    }
   ],
   "source": [
    "DS = geodata.Dataset(\n",
    "    module=\"era5\",\n",
    "    weather_data_config=\"wind_solar_hourly\",\n",
    "    years=slice(2005, 2005),\n",
    "    months=slice(1,1),\n",
    "    bounds=[50, -3, 45, 3]\n",
    ")"
   ]
  },
  {
   "cell_type": "code",
   "execution_count": 10,
   "metadata": {},
   "outputs": [
    {
     "name": "stderr",
     "output_type": "stream",
     "text": [
      "\u001b[32m2023-09-22 10:22:53,881 - geodata - INFO - The model is already prepared.\u001b[0m\n"
     ]
    }
   ],
   "source": [
    "model = WindInterpolationModel(DS)\n",
    "model.prepare()"
   ]
  },
  {
   "cell_type": "code",
   "execution_count": 11,
   "metadata": {},
   "outputs": [
    {
     "name": "stdout",
     "output_type": "stream",
     "text": [
      "[PosixPath('/Users/apple/.local/geodata/models/wind/era5/nc4/wind_solar_hourly.params.nc4'), PosixPath('/Users/apple/.local/geodata/era5/2005/01/wind_solar_hourly.nc')]\n"
     ]
    },
    {
     "ename": "ValueError",
     "evalue": "Every dimension needs a coordinate for inferring concatenation order",
     "output_type": "error",
     "traceback": [
      "\u001b[0;31m---------------------------------------------------------------------------\u001b[0m",
      "\u001b[0;31mValueError\u001b[0m                                Traceback (most recent call last)",
      "\u001b[1;32m/Users/apple/Desktop/geodata/src/test_era5.ipynb Cell 13\u001b[0m line \u001b[0;36m1\n\u001b[0;32m----> <a href='vscode-notebook-cell:/Users/apple/Desktop/geodata/src/test_era5.ipynb#X15sZmlsZQ%3D%3D?line=0'>1</a>\u001b[0m model\u001b[39m.\u001b[39;49mestimate(\n\u001b[1;32m      <a href='vscode-notebook-cell:/Users/apple/Desktop/geodata/src/test_era5.ipynb#X15sZmlsZQ%3D%3D?line=1'>2</a>\u001b[0m     height\u001b[39m=\u001b[39;49m\u001b[39m2\u001b[39;49m,\n\u001b[1;32m      <a href='vscode-notebook-cell:/Users/apple/Desktop/geodata/src/test_era5.ipynb#X15sZmlsZQ%3D%3D?line=2'>3</a>\u001b[0m     years\u001b[39m=\u001b[39;49m\u001b[39mslice\u001b[39;49m(\u001b[39m2010\u001b[39;49m, \u001b[39m2010\u001b[39;49m),\n\u001b[1;32m      <a href='vscode-notebook-cell:/Users/apple/Desktop/geodata/src/test_era5.ipynb#X15sZmlsZQ%3D%3D?line=3'>4</a>\u001b[0m     months\u001b[39m=\u001b[39;49m\u001b[39mslice\u001b[39;49m(\u001b[39m1\u001b[39;49m, \u001b[39m1\u001b[39;49m)\n\u001b[1;32m      <a href='vscode-notebook-cell:/Users/apple/Desktop/geodata/src/test_era5.ipynb#X15sZmlsZQ%3D%3D?line=4'>5</a>\u001b[0m )\n\u001b[1;32m      <a href='vscode-notebook-cell:/Users/apple/Desktop/geodata/src/test_era5.ipynb#X15sZmlsZQ%3D%3D?line=5'>6</a>\u001b[0m \u001b[39m# /Users/apple/.local/geodata/models/wind/era5/nc4/2005/01/05.params.nc4, 05 = date\u001b[39;00m\n",
      "File \u001b[0;32m~/Desktop/geodata/src/geodata/model/_base.py:142\u001b[0m, in \u001b[0;36mBaseModel.estimate\u001b[0;34m(self, height, years, months, xs, ys, use_real_data)\u001b[0m\n\u001b[1;32m    127\u001b[0m \u001b[39m\u001b[39m\u001b[39m\"\"\"Estimate the wind speed at given coordinates.\u001b[39;00m\n\u001b[1;32m    128\u001b[0m \n\u001b[1;32m    129\u001b[0m \u001b[39mArgs:\u001b[39;00m\n\u001b[0;32m   (...)\u001b[0m\n\u001b[1;32m    138\u001b[0m \u001b[39m    xr.DataArray: Dataset with wind speed.\u001b[39;00m\n\u001b[1;32m    139\u001b[0m \u001b[39m\"\"\"\u001b[39;00m\n\u001b[1;32m    141\u001b[0m \u001b[39mif\u001b[39;00m \u001b[39mself\u001b[39m\u001b[39m.\u001b[39mfrom_dataset:\n\u001b[0;32m--> 142\u001b[0m     \u001b[39mreturn\u001b[39;00m \u001b[39mself\u001b[39;49m\u001b[39m.\u001b[39;49m_estimate_dataset(\n\u001b[1;32m    143\u001b[0m         height\u001b[39m=\u001b[39;49mheight,\n\u001b[1;32m    144\u001b[0m         years\u001b[39m=\u001b[39;49myears,\n\u001b[1;32m    145\u001b[0m         months\u001b[39m=\u001b[39;49mmonths,\n\u001b[1;32m    146\u001b[0m         xs\u001b[39m=\u001b[39;49mxs,\n\u001b[1;32m    147\u001b[0m         ys\u001b[39m=\u001b[39;49mys,\n\u001b[1;32m    148\u001b[0m         use_real_data\u001b[39m=\u001b[39;49muse_real_data,\n\u001b[1;32m    149\u001b[0m     )\n\u001b[1;32m    151\u001b[0m \u001b[39mreturn\u001b[39;00m \u001b[39mself\u001b[39m\u001b[39m.\u001b[39m_estimate_cutout(\n\u001b[1;32m    152\u001b[0m     height\u001b[39m=\u001b[39mheight,\n\u001b[1;32m    153\u001b[0m     years\u001b[39m=\u001b[39myears,\n\u001b[0;32m   (...)\u001b[0m\n\u001b[1;32m    157\u001b[0m     use_real_data\u001b[39m=\u001b[39muse_real_data,\n\u001b[1;32m    158\u001b[0m )\n",
      "File \u001b[0;32m~/Desktop/geodata/src/geodata/model/wind/interpolate.py:156\u001b[0m, in \u001b[0;36mWindInterpolationModel._estimate_dataset\u001b[0;34m(self, height, years, months, xs, ys, use_real_data)\u001b[0m\n\u001b[1;32m    152\u001b[0m end_time \u001b[39m=\u001b[39m pd\u001b[39m.\u001b[39mTimestamp(\n\u001b[1;32m    153\u001b[0m     year\u001b[39m=\u001b[39myears\u001b[39m.\u001b[39mstop, month\u001b[39m=\u001b[39mmonths\u001b[39m.\u001b[39mstop, day\u001b[39m=\u001b[39m\u001b[39m31\u001b[39m, hour\u001b[39m=\u001b[39m\u001b[39m23\u001b[39m, minute\u001b[39m=\u001b[39m\u001b[39m59\u001b[39m, second\u001b[39m=\u001b[39m\u001b[39m59\u001b[39m\n\u001b[1;32m    154\u001b[0m )\n\u001b[1;32m    155\u001b[0m \u001b[39mprint\u001b[39m(\u001b[39mself\u001b[39m\u001b[39m.\u001b[39mfiles)\n\u001b[0;32m--> 156\u001b[0m ds \u001b[39m=\u001b[39m xr\u001b[39m.\u001b[39;49mopen_mfdataset(\u001b[39mself\u001b[39;49m\u001b[39m.\u001b[39;49mfiles)\n\u001b[1;32m    157\u001b[0m \u001b[39mprint\u001b[39m(\u001b[39m1\u001b[39m)\n\u001b[1;32m    158\u001b[0m \u001b[39mif\u001b[39;00m xs \u001b[39mis\u001b[39;00m \u001b[39mNone\u001b[39;00m:\n",
      "File \u001b[0;32m/Library/Frameworks/Python.framework/Versions/3.11/lib/python3.11/site-packages/xarray/backends/api.py:1040\u001b[0m, in \u001b[0;36mopen_mfdataset\u001b[0;34m(paths, chunks, concat_dim, compat, preprocess, engine, data_vars, coords, combine, parallel, join, attrs_file, combine_attrs, **kwargs)\u001b[0m\n\u001b[1;32m   1027\u001b[0m     combined \u001b[39m=\u001b[39m _nested_combine(\n\u001b[1;32m   1028\u001b[0m         datasets,\n\u001b[1;32m   1029\u001b[0m         concat_dims\u001b[39m=\u001b[39mconcat_dim,\n\u001b[0;32m   (...)\u001b[0m\n\u001b[1;32m   1035\u001b[0m         combine_attrs\u001b[39m=\u001b[39mcombine_attrs,\n\u001b[1;32m   1036\u001b[0m     )\n\u001b[1;32m   1037\u001b[0m \u001b[39melif\u001b[39;00m combine \u001b[39m==\u001b[39m \u001b[39m\"\u001b[39m\u001b[39mby_coords\u001b[39m\u001b[39m\"\u001b[39m:\n\u001b[1;32m   1038\u001b[0m     \u001b[39m# Redo ordering from coordinates, ignoring how they were ordered\u001b[39;00m\n\u001b[1;32m   1039\u001b[0m     \u001b[39m# previously\u001b[39;00m\n\u001b[0;32m-> 1040\u001b[0m     combined \u001b[39m=\u001b[39m combine_by_coords(\n\u001b[1;32m   1041\u001b[0m         datasets,\n\u001b[1;32m   1042\u001b[0m         compat\u001b[39m=\u001b[39;49mcompat,\n\u001b[1;32m   1043\u001b[0m         data_vars\u001b[39m=\u001b[39;49mdata_vars,\n\u001b[1;32m   1044\u001b[0m         coords\u001b[39m=\u001b[39;49mcoords,\n\u001b[1;32m   1045\u001b[0m         join\u001b[39m=\u001b[39;49mjoin,\n\u001b[1;32m   1046\u001b[0m         combine_attrs\u001b[39m=\u001b[39;49mcombine_attrs,\n\u001b[1;32m   1047\u001b[0m     )\n\u001b[1;32m   1048\u001b[0m \u001b[39melse\u001b[39;00m:\n\u001b[1;32m   1049\u001b[0m     \u001b[39mraise\u001b[39;00m \u001b[39mValueError\u001b[39;00m(\n\u001b[1;32m   1050\u001b[0m         \u001b[39m\"\u001b[39m\u001b[39m{}\u001b[39;00m\u001b[39m is an invalid option for the keyword argument\u001b[39m\u001b[39m\"\u001b[39m\n\u001b[1;32m   1051\u001b[0m         \u001b[39m\"\u001b[39m\u001b[39m ``combine``\u001b[39m\u001b[39m\"\u001b[39m\u001b[39m.\u001b[39mformat(combine)\n\u001b[1;32m   1052\u001b[0m     )\n",
      "File \u001b[0;32m/Library/Frameworks/Python.framework/Versions/3.11/lib/python3.11/site-packages/xarray/core/combine.py:960\u001b[0m, in \u001b[0;36mcombine_by_coords\u001b[0;34m(data_objects, compat, data_vars, coords, fill_value, join, combine_attrs)\u001b[0m\n\u001b[1;32m    956\u001b[0m     grouped_by_vars \u001b[39m=\u001b[39m itertools\u001b[39m.\u001b[39mgroupby(sorted_datasets, key\u001b[39m=\u001b[39mvars_as_keys)\n\u001b[1;32m    958\u001b[0m     \u001b[39m# Perform the multidimensional combine on each group of data variables\u001b[39;00m\n\u001b[1;32m    959\u001b[0m     \u001b[39m# before merging back together\u001b[39;00m\n\u001b[0;32m--> 960\u001b[0m     concatenated_grouped_by_data_vars \u001b[39m=\u001b[39m \u001b[39mtuple\u001b[39;49m(\n\u001b[1;32m    961\u001b[0m         _combine_single_variable_hypercube(\n\u001b[1;32m    962\u001b[0m             \u001b[39mtuple\u001b[39;49m(datasets_with_same_vars),\n\u001b[1;32m    963\u001b[0m             fill_value\u001b[39m=\u001b[39;49mfill_value,\n\u001b[1;32m    964\u001b[0m             data_vars\u001b[39m=\u001b[39;49mdata_vars,\n\u001b[1;32m    965\u001b[0m             coords\u001b[39m=\u001b[39;49mcoords,\n\u001b[1;32m    966\u001b[0m             compat\u001b[39m=\u001b[39;49mcompat,\n\u001b[1;32m    967\u001b[0m             join\u001b[39m=\u001b[39;49mjoin,\n\u001b[1;32m    968\u001b[0m             combine_attrs\u001b[39m=\u001b[39;49mcombine_attrs,\n\u001b[1;32m    969\u001b[0m         )\n\u001b[1;32m    970\u001b[0m         \u001b[39mfor\u001b[39;49;00m \u001b[39mvars\u001b[39;49m, datasets_with_same_vars \u001b[39min\u001b[39;49;00m grouped_by_vars\n\u001b[1;32m    971\u001b[0m     )\n\u001b[1;32m    973\u001b[0m \u001b[39mreturn\u001b[39;00m merge(\n\u001b[1;32m    974\u001b[0m     concatenated_grouped_by_data_vars,\n\u001b[1;32m    975\u001b[0m     compat\u001b[39m=\u001b[39mcompat,\n\u001b[0;32m   (...)\u001b[0m\n\u001b[1;32m    978\u001b[0m     combine_attrs\u001b[39m=\u001b[39mcombine_attrs,\n\u001b[1;32m    979\u001b[0m )\n",
      "File \u001b[0;32m/Library/Frameworks/Python.framework/Versions/3.11/lib/python3.11/site-packages/xarray/core/combine.py:961\u001b[0m, in \u001b[0;36m<genexpr>\u001b[0;34m(.0)\u001b[0m\n\u001b[1;32m    956\u001b[0m     grouped_by_vars \u001b[39m=\u001b[39m itertools\u001b[39m.\u001b[39mgroupby(sorted_datasets, key\u001b[39m=\u001b[39mvars_as_keys)\n\u001b[1;32m    958\u001b[0m     \u001b[39m# Perform the multidimensional combine on each group of data variables\u001b[39;00m\n\u001b[1;32m    959\u001b[0m     \u001b[39m# before merging back together\u001b[39;00m\n\u001b[1;32m    960\u001b[0m     concatenated_grouped_by_data_vars \u001b[39m=\u001b[39m \u001b[39mtuple\u001b[39m(\n\u001b[0;32m--> 961\u001b[0m         _combine_single_variable_hypercube(\n\u001b[1;32m    962\u001b[0m             \u001b[39mtuple\u001b[39;49m(datasets_with_same_vars),\n\u001b[1;32m    963\u001b[0m             fill_value\u001b[39m=\u001b[39;49mfill_value,\n\u001b[1;32m    964\u001b[0m             data_vars\u001b[39m=\u001b[39;49mdata_vars,\n\u001b[1;32m    965\u001b[0m             coords\u001b[39m=\u001b[39;49mcoords,\n\u001b[1;32m    966\u001b[0m             compat\u001b[39m=\u001b[39;49mcompat,\n\u001b[1;32m    967\u001b[0m             join\u001b[39m=\u001b[39;49mjoin,\n\u001b[1;32m    968\u001b[0m             combine_attrs\u001b[39m=\u001b[39;49mcombine_attrs,\n\u001b[1;32m    969\u001b[0m         )\n\u001b[1;32m    970\u001b[0m         \u001b[39mfor\u001b[39;00m \u001b[39mvars\u001b[39m, datasets_with_same_vars \u001b[39min\u001b[39;00m grouped_by_vars\n\u001b[1;32m    971\u001b[0m     )\n\u001b[1;32m    973\u001b[0m \u001b[39mreturn\u001b[39;00m merge(\n\u001b[1;32m    974\u001b[0m     concatenated_grouped_by_data_vars,\n\u001b[1;32m    975\u001b[0m     compat\u001b[39m=\u001b[39mcompat,\n\u001b[0;32m   (...)\u001b[0m\n\u001b[1;32m    978\u001b[0m     combine_attrs\u001b[39m=\u001b[39mcombine_attrs,\n\u001b[1;32m    979\u001b[0m )\n",
      "File \u001b[0;32m/Library/Frameworks/Python.framework/Versions/3.11/lib/python3.11/site-packages/xarray/core/combine.py:621\u001b[0m, in \u001b[0;36m_combine_single_variable_hypercube\u001b[0;34m(datasets, fill_value, data_vars, coords, compat, join, combine_attrs)\u001b[0m\n\u001b[1;32m    615\u001b[0m \u001b[39mif\u001b[39;00m \u001b[39mlen\u001b[39m(datasets) \u001b[39m==\u001b[39m \u001b[39m0\u001b[39m:\n\u001b[1;32m    616\u001b[0m     \u001b[39mraise\u001b[39;00m \u001b[39mValueError\u001b[39;00m(\n\u001b[1;32m    617\u001b[0m         \u001b[39m\"\u001b[39m\u001b[39mAt least one Dataset is required to resolve variable names \u001b[39m\u001b[39m\"\u001b[39m\n\u001b[1;32m    618\u001b[0m         \u001b[39m\"\u001b[39m\u001b[39mfor combined hypercube.\u001b[39m\u001b[39m\"\u001b[39m\n\u001b[1;32m    619\u001b[0m     )\n\u001b[0;32m--> 621\u001b[0m combined_ids, concat_dims \u001b[39m=\u001b[39m _infer_concat_order_from_coords(\u001b[39mlist\u001b[39;49m(datasets))\n\u001b[1;32m    623\u001b[0m \u001b[39mif\u001b[39;00m fill_value \u001b[39mis\u001b[39;00m \u001b[39mNone\u001b[39;00m:\n\u001b[1;32m    624\u001b[0m     \u001b[39m# check that datasets form complete hypercube\u001b[39;00m\n\u001b[1;32m    625\u001b[0m     _check_shape_tile_ids(combined_ids)\n",
      "File \u001b[0;32m/Library/Frameworks/Python.framework/Versions/3.11/lib/python3.11/site-packages/xarray/core/combine.py:92\u001b[0m, in \u001b[0;36m_infer_concat_order_from_coords\u001b[0;34m(datasets)\u001b[0m\n\u001b[1;32m     90\u001b[0m indexes \u001b[39m=\u001b[39m [ds\u001b[39m.\u001b[39m_indexes\u001b[39m.\u001b[39mget(dim) \u001b[39mfor\u001b[39;00m ds \u001b[39min\u001b[39;00m datasets]\n\u001b[1;32m     91\u001b[0m \u001b[39mif\u001b[39;00m \u001b[39many\u001b[39m(index \u001b[39mis\u001b[39;00m \u001b[39mNone\u001b[39;00m \u001b[39mfor\u001b[39;00m index \u001b[39min\u001b[39;00m indexes):\n\u001b[0;32m---> 92\u001b[0m     \u001b[39mraise\u001b[39;00m \u001b[39mValueError\u001b[39;00m(\n\u001b[1;32m     93\u001b[0m         \u001b[39m\"\u001b[39m\u001b[39mEvery dimension needs a coordinate for \u001b[39m\u001b[39m\"\u001b[39m\n\u001b[1;32m     94\u001b[0m         \u001b[39m\"\u001b[39m\u001b[39minferring concatenation order\u001b[39m\u001b[39m\"\u001b[39m\n\u001b[1;32m     95\u001b[0m     )\n\u001b[1;32m     97\u001b[0m \u001b[39m# TODO (benbovy, flexible indexes): support flexible indexes?\u001b[39;00m\n\u001b[1;32m     98\u001b[0m indexes \u001b[39m=\u001b[39m [index\u001b[39m.\u001b[39mto_pandas_index() \u001b[39mfor\u001b[39;00m index \u001b[39min\u001b[39;00m indexes]\n",
      "\u001b[0;31mValueError\u001b[0m: Every dimension needs a coordinate for inferring concatenation order"
     ]
    }
   ],
   "source": [
    "model.estimate(\n",
    "    height=2,\n",
    "    years=slice(2010, 2010),\n",
    "    months=slice(1, 1)\n",
    ")\n",
    "# /Users/apple/.local/geodata/models/wind/era5/nc4/2005/01/05.params.nc4, 05 = date"
   ]
  },
  {
   "cell_type": "code",
   "execution_count": null,
   "metadata": {},
   "outputs": [],
   "source": [
    "# def interpolate_wind_speed_cs(speed_data, heights, target_height):\n",
    "#     cs = CubicSpline(heights, speed_data, axis=0)\n",
    "#     interpolated_wind_speed = cs(target_height)\n",
    "    \n",
    "#     return interpolated_wind_speed"
   ]
  },
  {
   "cell_type": "code",
   "execution_count": null,
   "metadata": {},
   "outputs": [],
   "source": [
    "# cs_speed = interpolate_wind_speed_cs(wind_speed[0, :, 0, 0], levels, 132.5)"
   ]
  }
 ],
 "metadata": {
  "kernelspec": {
   "display_name": "Python 3",
   "language": "python",
   "name": "python3"
  },
  "language_info": {
   "codemirror_mode": {
    "name": "ipython",
    "version": 3
   },
   "file_extension": ".py",
   "mimetype": "text/x-python",
   "name": "python",
   "nbconvert_exporter": "python",
   "pygments_lexer": "ipython3",
   "version": "3.11.4"
  },
  "orig_nbformat": 4
 },
 "nbformat": 4,
 "nbformat_minor": 2
}
