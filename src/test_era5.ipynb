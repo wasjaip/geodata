{
 "cells": [
  {
   "cell_type": "code",
   "execution_count": 1,
   "metadata": {},
   "outputs": [
    {
     "name": "stderr",
     "output_type": "stream",
     "text": [
      "2023-09-14 12:56:24,687 INFO Welcome to the CDS\n",
      "2023-09-14 12:56:24,687 INFO Sending request to https://cds.climate.copernicus.eu/api/v2/resources/reanalysis-era5-complete\n",
      "2023-09-14 12:56:24,985 INFO Request is queued\n",
      "2023-09-14 12:56:26,177 INFO Request is running\n",
      "2023-09-14 12:58:20,436 INFO Request is completed\n",
      "2023-09-14 12:58:20,441 INFO Downloading https://download-0003-clone.copernicus-climate.eu/cache-compute-0003/cache/data1/adaptor.mars.external-1694721466.5459745-30141-2-d77c6ff2-f206-4c7d-bdd4-ecdb53eac12b.nc to sample.nc (665.4M)\n",
      "2023-09-14 13:10:20,887 INFO Download rate 945.7K/s \n"
     ]
    },
    {
     "data": {
      "text/plain": [
       "Result(content_length=697707568,content_type=application/x-netcdf,location=https://download-0003-clone.copernicus-climate.eu/cache-compute-0003/cache/data1/adaptor.mars.external-1694721466.5459745-30141-2-d77c6ff2-f206-4c7d-bdd4-ecdb53eac12b.nc)"
      ]
     },
     "execution_count": 1,
     "metadata": {},
     "output_type": "execute_result"
    }
   ],
   "source": [
    "import cdsapi\n",
    "\n",
    "c = cdsapi.Client()\n",
    "c.retrieve(\n",
    "    \"reanalysis-era5-complete\", \n",
    "    {\n",
    "        \"date\": \"20130101\",  # The hyphens can be omitted\n",
    "        \"levelist\": \"131/to/137\",  # 1 is top level, 137 the lowest model level in ERA5. Use '/' to separate values.\n",
    "        \"levtype\": \"ml\",\n",
    "        \"param\": \"131/132\",  # Full information at https://apps.ecmwf.int/codes/grib/param-db/\n",
    "        # The native representation for temperature is spherical harmonics\n",
    "        \"stream\": \"oper\",  # Denotes ERA5. Ensemble members are selected by 'enda'\n",
    "        \"time\": \"00/to/23/by/1\",\n",
    "        \"type\": \"an\",\n",
    "        \"grid\": \"0.25/0.25\",  # Latitude/longitude. Default: spherical harmonics or reduced Gaussian grid\n",
    "        \"format\": \"netcdf\",  # Output needs to be regular lat-lon, so only works in combination with 'grid'!\n",
    "    },\n",
    "    \"sample.nc\",\n",
    ")"
   ]
  },
  {
   "cell_type": "markdown",
   "metadata": {},
   "source": [
    "### Jit function with parallelization"
   ]
  },
  {
   "cell_type": "code",
   "execution_count": 2,
   "metadata": {},
   "outputs": [],
   "source": [
    "from numba import jit, prange"
   ]
  },
  {
   "cell_type": "code",
   "execution_count": 16,
   "metadata": {},
   "outputs": [
    {
     "name": "stderr",
     "output_type": "stream",
     "text": [
      "/var/folders/60/xv39hkc90wn5k5b8v0f6j_v80000gn/T/ipykernel_76146/363801367.py:1: NumbaDeprecationWarning: The 'nopython' keyword argument was not supplied to the 'numba.jit' decorator. The implicit default value for this argument is currently False, but it will be changed to True in Numba 0.59.0. See https://numba.readthedocs.io/en/stable/reference/deprecation.html#deprecation-of-object-mode-fall-back-behaviour-when-using-jit for details.\n",
      "  @jit(parallel=True)\n"
     ]
    }
   ],
   "source": [
    "@jit(parallel=True)\n",
    "def prange_test(A):\n",
    "    s = 0\n",
    "    # Without \"parallel=True\" in the jit-decorator\n",
    "    # the prange statement is equivalent to range\n",
    "    for i in prange(A.shape[0]):\n",
    "        s += A[i]\n",
    "    return s"
   ]
  },
  {
   "cell_type": "code",
   "execution_count": 17,
   "metadata": {},
   "outputs": [
    {
     "name": "stdout",
     "output_type": "stream",
     "text": [
      "15\n"
     ]
    }
   ],
   "source": [
    "import numpy as np\n",
    "input_data = np.array([1, 2, 3, 4, 5])\n",
    "result = prange_test(input_data)\n",
    "print(result)"
   ]
  },
  {
   "cell_type": "markdown",
   "metadata": {},
   "source": [
    "### ERA5 Testing"
   ]
  },
  {
   "cell_type": "code",
   "execution_count": 4,
   "metadata": {},
   "outputs": [],
   "source": [
    "import logging\n",
    "logging.basicConfig(level=logging.INFO)\n",
    "import geodata\n",
    "from geodata.model.wind import WindInterpolationModel"
   ]
  },
  {
   "cell_type": "code",
   "execution_count": 3,
   "metadata": {},
   "outputs": [
    {
     "name": "stderr",
     "output_type": "stream",
     "text": [
      "\u001b[32m2023-09-18 20:02:06,702 - geodata.dataset - INFO - Directory /Users/apple/.local/geodata/era5 found, checking for completeness.\u001b[0m\n",
      "\u001b[32m2023-09-18 20:02:06,703 - geodata.dataset - INFO - Directory complete.\u001b[0m\n"
     ]
    }
   ],
   "source": [
    "DS = geodata.Dataset(\n",
    "    module=\"era5\",\n",
    "    weather_data_config=\"wind_solar_hourly\",\n",
    "    years=slice(2005, 2005),\n",
    "    months=slice(1,1),\n",
    "    bounds=[50, -3, 45, 3]\n",
    ")"
   ]
  },
  {
   "cell_type": "code",
   "execution_count": null,
   "metadata": {},
   "outputs": [],
   "source": [
    "model = WindInterpolationModel(DS)\n",
    "model.prepare()"
   ]
  }
 ],
 "metadata": {
  "kernelspec": {
   "display_name": "Python 3",
   "language": "python",
   "name": "python3"
  },
  "language_info": {
   "codemirror_mode": {
    "name": "ipython",
    "version": 3
   },
   "file_extension": ".py",
   "mimetype": "text/x-python",
   "name": "python",
   "nbconvert_exporter": "python",
   "pygments_lexer": "ipython3",
   "version": "3.11.4"
  },
  "orig_nbformat": 4
 },
 "nbformat": 4,
 "nbformat_minor": 2
}
