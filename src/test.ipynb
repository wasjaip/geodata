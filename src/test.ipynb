{
 "cells": [
  {
   "cell_type": "code",
   "execution_count": null,
   "metadata": {},
   "outputs": [],
   "source": [
    "from geodata import Dataset, Cutout\n",
    "from geodata.model.wind import WindExtrapolationModel\n",
    "import matplotlib.pyplot as plt\n",
    "import xarray as xr"
   ]
  },
  {
   "cell_type": "markdown",
   "metadata": {},
   "source": [
    "### Dataset Testing"
   ]
  },
  {
   "cell_type": "code",
   "execution_count": null,
   "metadata": {},
   "outputs": [],
   "source": [
    "dataset = Dataset(\n",
    "    module=\"merra2\",\n",
    "    weather_data_config=\"slv_flux_hourly\",\n",
    "    years=slice(2010, 2010),\n",
    "    months=slice(1,1)\n",
    ")\n",
    "\n",
    "model = WindExtrapolationModel(dataset)\n",
    "model.prepare()"
   ]
  },
  {
   "cell_type": "code",
   "execution_count": null,
   "metadata": {},
   "outputs": [],
   "source": [
    "speed1 = model.estimate(\n",
    "    height=2,\n",
    "    years=slice(2010, 2010),\n",
    "    months=slice(1, 1)\n",
    ")"
   ]
  },
  {
   "cell_type": "code",
   "execution_count": null,
   "metadata": {},
   "outputs": [],
   "source": [
    "speed1loc = speed1.isel(lat=0, lon=0)\n",
    "speed1loc = speed1loc.load()"
   ]
  },
  {
   "cell_type": "code",
   "execution_count": null,
   "metadata": {},
   "outputs": [],
   "source": [
    "speed2 = model.estimate(\n",
    "    height=10,\n",
    "    years=slice(2010, 2010),\n",
    "    months=slice(1, 1)\n",
    ")"
   ]
  },
  {
   "cell_type": "code",
   "execution_count": null,
   "metadata": {},
   "outputs": [],
   "source": [
    "speed2loc = speed2.isel(lat=0, lon=0)\n",
    "speed2loc = speed2loc.load()"
   ]
  },
  {
   "cell_type": "code",
   "execution_count": null,
   "metadata": {},
   "outputs": [],
   "source": [
    "speed3 = model.estimate(\n",
    "    height=50,\n",
    "    years=slice(2010, 2010),\n",
    "    months=slice(1, 1)\n",
    ")"
   ]
  },
  {
   "cell_type": "code",
   "execution_count": null,
   "metadata": {},
   "outputs": [],
   "source": [
    "speed3loc = speed3.isel(lat=0, lon=0)\n",
    "speed3loc = speed3loc.load()"
   ]
  },
  {
   "cell_type": "code",
   "execution_count": null,
   "metadata": {},
   "outputs": [],
   "source": [
    "speed4 = model.estimate(\n",
    "    height=80, # extrapolation in high heights\n",
    "    years=slice(2010, 2010),\n",
    "    months=slice(1, 1)\n",
    ")"
   ]
  },
  {
   "cell_type": "code",
   "execution_count": null,
   "metadata": {},
   "outputs": [],
   "source": [
    "speed4loc = speed4.isel(lat=0, lon=0)\n",
    "speed4loc = speed4loc.load()"
   ]
  },
  {
   "cell_type": "code",
   "execution_count": null,
   "metadata": {},
   "outputs": [],
   "source": [
    "plt.plot(speed1loc, label='H = 2');\n",
    "plt.plot(speed2loc, label='H = 10');\n",
    "plt.plot(speed3loc, label='H = 50');\n",
    "plt.plot(speed4loc, label='H = 80');\n",
    "plt.legend()\n",
    "plt.show()"
   ]
  },
  {
   "cell_type": "code",
   "execution_count": null,
   "metadata": {},
   "outputs": [],
   "source": [
    "plt.plot([2, 10, 50, 80], \n",
    "         [speed1.isel(lon=0, lat=0, time=0).values,\n",
    "          speed2.isel(lon=0, lat=0, time=0).values,\n",
    "          speed3.isel(lon=0, lat=0, time=0).values,\n",
    "          speed4.isel(lon=0, lat=0, time=0).values]\n",
    "        );"
   ]
  },
  {
   "cell_type": "markdown",
   "metadata": {},
   "source": [
    "### Cutout Testing"
   ]
  },
  {
   "cell_type": "code",
   "execution_count": 2,
   "metadata": {},
   "outputs": [
    {
     "name": "stderr",
     "output_type": "stream",
     "text": [
      "\u001b[32m2023-09-01 22:27:38,960 - geodata.dataset - INFO - Using global bounds.\u001b[0m\n",
      "\u001b[32m2023-09-01 22:27:38,962 - geodata.dataset - INFO - Directory /Users/apple/.local/geodata/merra2 found, checking for completeness.\u001b[0m\n",
      "\u001b[32m2023-09-01 22:27:38,964 - geodata.dataset - INFO - Directory complete.\u001b[0m\n"
     ]
    }
   ],
   "source": [
    "DS = Dataset(\n",
    "    module=\"merra2\",\n",
    "    weather_data_config=\"surface_flux_hourly\",\n",
    "    years=slice(2011, 2011),\n",
    "    months=slice(1, 1),\n",
    ")"
   ]
  },
  {
   "cell_type": "code",
   "execution_count": 8,
   "metadata": {},
   "outputs": [
    {
     "name": "stderr",
     "output_type": "stream",
     "text": [
      "\u001b[32m2023-09-01 22:34:58,058 - geodata.cutout - INFO - Cutout (merra2-europe-sub24-2011-01, /Users/apple/.local/geodata/cutouts) not found or incomplete.\u001b[0m\n"
     ]
    },
    {
     "ename": "OSError",
     "evalue": "[Errno -101] NetCDF: HDF error: '/Users/apple/.local/geodata/merra2/2011/01/MERRA2_400.tavg1_2d_flx_Nx.20110121.nc4'",
     "output_type": "error",
     "traceback": [
      "\u001b[0;31m---------------------------------------------------------------------------\u001b[0m",
      "\u001b[0;31mKeyError\u001b[0m                                  Traceback (most recent call last)",
      "File \u001b[0;32m/Library/Frameworks/Python.framework/Versions/3.11/lib/python3.11/site-packages/xarray/backends/file_manager.py:211\u001b[0m, in \u001b[0;36mCachingFileManager._acquire_with_cache_info\u001b[0;34m(self, needs_lock)\u001b[0m\n\u001b[1;32m    210\u001b[0m \u001b[39mtry\u001b[39;00m:\n\u001b[0;32m--> 211\u001b[0m     file \u001b[39m=\u001b[39m \u001b[39mself\u001b[39;49m\u001b[39m.\u001b[39;49m_cache[\u001b[39mself\u001b[39;49m\u001b[39m.\u001b[39;49m_key]\n\u001b[1;32m    212\u001b[0m \u001b[39mexcept\u001b[39;00m \u001b[39mKeyError\u001b[39;00m:\n",
      "File \u001b[0;32m/Library/Frameworks/Python.framework/Versions/3.11/lib/python3.11/site-packages/xarray/backends/lru_cache.py:56\u001b[0m, in \u001b[0;36mLRUCache.__getitem__\u001b[0;34m(self, key)\u001b[0m\n\u001b[1;32m     55\u001b[0m \u001b[39mwith\u001b[39;00m \u001b[39mself\u001b[39m\u001b[39m.\u001b[39m_lock:\n\u001b[0;32m---> 56\u001b[0m     value \u001b[39m=\u001b[39m \u001b[39mself\u001b[39;49m\u001b[39m.\u001b[39;49m_cache[key]\n\u001b[1;32m     57\u001b[0m     \u001b[39mself\u001b[39m\u001b[39m.\u001b[39m_cache\u001b[39m.\u001b[39mmove_to_end(key)\n",
      "\u001b[0;31mKeyError\u001b[0m: [<class 'netCDF4._netCDF4.Dataset'>, ('/Users/apple/.local/geodata/merra2/2011/01/MERRA2_400.tavg1_2d_flx_Nx.20110121.nc4',), 'r', (('clobber', True), ('diskless', False), ('format', 'NETCDF4'), ('persist', False)), 'fd5158d4-a678-4444-812a-23f670d42b2c']",
      "\nDuring handling of the above exception, another exception occurred:\n",
      "\u001b[0;31mOSError\u001b[0m                                   Traceback (most recent call last)",
      "Cell \u001b[0;32mIn[8], line 1\u001b[0m\n\u001b[0;32m----> 1\u001b[0m cutout \u001b[39m=\u001b[39m Cutout(\n\u001b[1;32m      2\u001b[0m     name\u001b[39m=\u001b[39;49m\u001b[39m\"\u001b[39;49m\u001b[39mmerra2-europe-sub24-2011-01\u001b[39;49m\u001b[39m\"\u001b[39;49m,\n\u001b[1;32m      3\u001b[0m     module\u001b[39m=\u001b[39;49m\u001b[39m\"\u001b[39;49m\u001b[39mmerra2\u001b[39;49m\u001b[39m\"\u001b[39;49m,\n\u001b[1;32m      4\u001b[0m     weather_data_config\u001b[39m=\u001b[39;49m\u001b[39m\"\u001b[39;49m\u001b[39msurface_flux_hourly\u001b[39;49m\u001b[39m\"\u001b[39;49m,\n\u001b[1;32m      5\u001b[0m     xs\u001b[39m=\u001b[39;49m\u001b[39mslice\u001b[39;49m(\u001b[39m30\u001b[39;49m, \u001b[39m41.56244222\u001b[39;49m),\n\u001b[1;32m      6\u001b[0m     ys\u001b[39m=\u001b[39;49m\u001b[39mslice\u001b[39;49m(\u001b[39m33.56459975\u001b[39;49m, \u001b[39m35\u001b[39;49m),\n\u001b[1;32m      7\u001b[0m     years\u001b[39m=\u001b[39;49m\u001b[39mslice\u001b[39;49m(\u001b[39m2011\u001b[39;49m, \u001b[39m2011\u001b[39;49m),\n\u001b[1;32m      8\u001b[0m     months\u001b[39m=\u001b[39;49m\u001b[39mslice\u001b[39;49m(\u001b[39m1\u001b[39;49m,\u001b[39m1\u001b[39;49m)\n\u001b[1;32m      9\u001b[0m )\n\u001b[1;32m     10\u001b[0m cutout\u001b[39m.\u001b[39mprepare()\n\u001b[1;32m     11\u001b[0m \u001b[39m# cutout_model = WindExtrapolationModel(cutout)\u001b[39;00m\n\u001b[1;32m     12\u001b[0m \u001b[39m# cutout_model.prepare()\u001b[39;00m\n",
      "File \u001b[0;32m~/Desktop/geodata/src/geodata/cutout.py:171\u001b[0m, in \u001b[0;36mCutout.__init__\u001b[0;34m(self, name, cutout_dir, **cutoutparams)\u001b[0m\n\u001b[1;32m    165\u001b[0m     os\u001b[39m.\u001b[39mremove(\u001b[39mself\u001b[39m\u001b[39m.\u001b[39mdatasetfn())\n\u001b[1;32m    167\u001b[0m \u001b[39m## Main preparation call for metadata\u001b[39;00m\n\u001b[1;32m    168\u001b[0m \u001b[39m#    preparation.cutout_get_meta\u001b[39;00m\n\u001b[1;32m    169\u001b[0m \u001b[39m#    cutout.meta_data_config\u001b[39;00m\n\u001b[1;32m    170\u001b[0m \u001b[39m#    dataset_module.meta_data_config (e.g. prepare_meta_era5)\u001b[39;00m\n\u001b[0;32m--> 171\u001b[0m \u001b[39mself\u001b[39m\u001b[39m.\u001b[39mmeta \u001b[39m=\u001b[39m \u001b[39mself\u001b[39;49m\u001b[39m.\u001b[39;49mget_meta(\u001b[39m*\u001b[39;49m\u001b[39m*\u001b[39;49mcutoutparams)\n\u001b[1;32m    173\u001b[0m \u001b[39m# Ensure cutout directory exists\u001b[39;00m\n\u001b[1;32m    174\u001b[0m \u001b[39mif\u001b[39;00m \u001b[39mnot\u001b[39;00m os\u001b[39m.\u001b[39mpath\u001b[39m.\u001b[39misdir(\u001b[39mself\u001b[39m\u001b[39m.\u001b[39mcutout_dir):\n",
      "File \u001b[0;32m~/Desktop/geodata/src/geodata/preparation.py:227\u001b[0m, in \u001b[0;36mcutout_get_meta\u001b[0;34m(cutout, xs, ys, years, months, **dataset_params)\u001b[0m\n\u001b[1;32m    223\u001b[0m \u001b[39m# test before removing\u001b[39;00m\n\u001b[1;32m    224\u001b[0m \n\u001b[1;32m    225\u001b[0m \u001b[39m# Get metadata\u001b[39;00m\n\u001b[1;32m    226\u001b[0m prepare_func \u001b[39m=\u001b[39m meta_kwds\u001b[39m.\u001b[39mpop(\u001b[39m\"\u001b[39m\u001b[39mprepare_func\u001b[39m\u001b[39m\"\u001b[39m)\n\u001b[0;32m--> 227\u001b[0m ds \u001b[39m=\u001b[39m prepare_func(xs\u001b[39m=\u001b[39;49mxs, ys\u001b[39m=\u001b[39;49mys, year\u001b[39m=\u001b[39;49myears\u001b[39m.\u001b[39;49mstop, month\u001b[39m=\u001b[39;49mmonths\u001b[39m.\u001b[39;49mstop, \u001b[39m*\u001b[39;49m\u001b[39m*\u001b[39;49mmeta_kwds)\n\u001b[1;32m    228\u001b[0m ds\u001b[39m.\u001b[39mattrs\u001b[39m.\u001b[39mupdate(dataset_params)\n\u001b[1;32m    230\u001b[0m \u001b[39m# Check if cutout dimenions are empty\u001b[39;00m\n",
      "File \u001b[0;32m~/Desktop/geodata/src/geodata/datasets/merra2.py:200\u001b[0m, in \u001b[0;36mprepare_meta_merra2\u001b[0;34m(xs, ys, year, month, template, module, **params)\u001b[0m\n\u001b[1;32m    197\u001b[0m spinup \u001b[39m=\u001b[39m spinup_year(year, month)\n\u001b[1;32m    199\u001b[0m fns \u001b[39m=\u001b[39m glob\u001b[39m.\u001b[39miglob(template\u001b[39m.\u001b[39mformat(year\u001b[39m=\u001b[39myear, month\u001b[39m=\u001b[39mmonth, spinup\u001b[39m=\u001b[39mspinup))\n\u001b[0;32m--> 200\u001b[0m \u001b[39mwith\u001b[39;00m xr\u001b[39m.\u001b[39;49mopen_mfdataset(fns, combine\u001b[39m=\u001b[39;49m\u001b[39m\"\u001b[39;49m\u001b[39mby_coords\u001b[39;49m\u001b[39m\"\u001b[39;49m) \u001b[39mas\u001b[39;00m ds:\n\u001b[1;32m    201\u001b[0m     ds \u001b[39m=\u001b[39m ds\u001b[39m.\u001b[39mcoords\u001b[39m.\u001b[39mto_dataset()\n\u001b[1;32m    202\u001b[0m     ds \u001b[39m=\u001b[39m convert_and_subset_lons_lats_merra2(ds, xs, ys)\n",
      "File \u001b[0;32m/Library/Frameworks/Python.framework/Versions/3.11/lib/python3.11/site-packages/xarray/backends/api.py:1012\u001b[0m, in \u001b[0;36mopen_mfdataset\u001b[0;34m(paths, chunks, concat_dim, compat, preprocess, engine, data_vars, coords, combine, parallel, join, attrs_file, combine_attrs, **kwargs)\u001b[0m\n\u001b[1;32m   1009\u001b[0m     open_ \u001b[39m=\u001b[39m open_dataset\n\u001b[1;32m   1010\u001b[0m     getattr_ \u001b[39m=\u001b[39m \u001b[39mgetattr\u001b[39m\n\u001b[0;32m-> 1012\u001b[0m datasets \u001b[39m=\u001b[39m [open_(p, \u001b[39m*\u001b[39;49m\u001b[39m*\u001b[39;49mopen_kwargs) \u001b[39mfor\u001b[39;49;00m p \u001b[39min\u001b[39;49;00m paths]\n\u001b[1;32m   1013\u001b[0m closers \u001b[39m=\u001b[39m [getattr_(ds, \u001b[39m\"\u001b[39m\u001b[39m_close\u001b[39m\u001b[39m\"\u001b[39m) \u001b[39mfor\u001b[39;00m ds \u001b[39min\u001b[39;00m datasets]\n\u001b[1;32m   1014\u001b[0m \u001b[39mif\u001b[39;00m preprocess \u001b[39mis\u001b[39;00m \u001b[39mnot\u001b[39;00m \u001b[39mNone\u001b[39;00m:\n",
      "File \u001b[0;32m/Library/Frameworks/Python.framework/Versions/3.11/lib/python3.11/site-packages/xarray/backends/api.py:1012\u001b[0m, in \u001b[0;36m<listcomp>\u001b[0;34m(.0)\u001b[0m\n\u001b[1;32m   1009\u001b[0m     open_ \u001b[39m=\u001b[39m open_dataset\n\u001b[1;32m   1010\u001b[0m     getattr_ \u001b[39m=\u001b[39m \u001b[39mgetattr\u001b[39m\n\u001b[0;32m-> 1012\u001b[0m datasets \u001b[39m=\u001b[39m [open_(p, \u001b[39m*\u001b[39;49m\u001b[39m*\u001b[39;49mopen_kwargs) \u001b[39mfor\u001b[39;00m p \u001b[39min\u001b[39;00m paths]\n\u001b[1;32m   1013\u001b[0m closers \u001b[39m=\u001b[39m [getattr_(ds, \u001b[39m\"\u001b[39m\u001b[39m_close\u001b[39m\u001b[39m\"\u001b[39m) \u001b[39mfor\u001b[39;00m ds \u001b[39min\u001b[39;00m datasets]\n\u001b[1;32m   1014\u001b[0m \u001b[39mif\u001b[39;00m preprocess \u001b[39mis\u001b[39;00m \u001b[39mnot\u001b[39;00m \u001b[39mNone\u001b[39;00m:\n",
      "File \u001b[0;32m/Library/Frameworks/Python.framework/Versions/3.11/lib/python3.11/site-packages/xarray/backends/api.py:570\u001b[0m, in \u001b[0;36mopen_dataset\u001b[0;34m(filename_or_obj, engine, chunks, cache, decode_cf, mask_and_scale, decode_times, decode_timedelta, use_cftime, concat_characters, decode_coords, drop_variables, inline_array, chunked_array_type, from_array_kwargs, backend_kwargs, **kwargs)\u001b[0m\n\u001b[1;32m    558\u001b[0m decoders \u001b[39m=\u001b[39m _resolve_decoders_kwargs(\n\u001b[1;32m    559\u001b[0m     decode_cf,\n\u001b[1;32m    560\u001b[0m     open_backend_dataset_parameters\u001b[39m=\u001b[39mbackend\u001b[39m.\u001b[39mopen_dataset_parameters,\n\u001b[0;32m   (...)\u001b[0m\n\u001b[1;32m    566\u001b[0m     decode_coords\u001b[39m=\u001b[39mdecode_coords,\n\u001b[1;32m    567\u001b[0m )\n\u001b[1;32m    569\u001b[0m overwrite_encoded_chunks \u001b[39m=\u001b[39m kwargs\u001b[39m.\u001b[39mpop(\u001b[39m\"\u001b[39m\u001b[39moverwrite_encoded_chunks\u001b[39m\u001b[39m\"\u001b[39m, \u001b[39mNone\u001b[39;00m)\n\u001b[0;32m--> 570\u001b[0m backend_ds \u001b[39m=\u001b[39m backend\u001b[39m.\u001b[39;49mopen_dataset(\n\u001b[1;32m    571\u001b[0m     filename_or_obj,\n\u001b[1;32m    572\u001b[0m     drop_variables\u001b[39m=\u001b[39;49mdrop_variables,\n\u001b[1;32m    573\u001b[0m     \u001b[39m*\u001b[39;49m\u001b[39m*\u001b[39;49mdecoders,\n\u001b[1;32m    574\u001b[0m     \u001b[39m*\u001b[39;49m\u001b[39m*\u001b[39;49mkwargs,\n\u001b[1;32m    575\u001b[0m )\n\u001b[1;32m    576\u001b[0m ds \u001b[39m=\u001b[39m _dataset_from_backend_dataset(\n\u001b[1;32m    577\u001b[0m     backend_ds,\n\u001b[1;32m    578\u001b[0m     filename_or_obj,\n\u001b[0;32m   (...)\u001b[0m\n\u001b[1;32m    588\u001b[0m     \u001b[39m*\u001b[39m\u001b[39m*\u001b[39mkwargs,\n\u001b[1;32m    589\u001b[0m )\n\u001b[1;32m    590\u001b[0m \u001b[39mreturn\u001b[39;00m ds\n",
      "File \u001b[0;32m/Library/Frameworks/Python.framework/Versions/3.11/lib/python3.11/site-packages/xarray/backends/netCDF4_.py:602\u001b[0m, in \u001b[0;36mNetCDF4BackendEntrypoint.open_dataset\u001b[0;34m(self, filename_or_obj, mask_and_scale, decode_times, concat_characters, decode_coords, drop_variables, use_cftime, decode_timedelta, group, mode, format, clobber, diskless, persist, lock, autoclose)\u001b[0m\n\u001b[1;32m    581\u001b[0m \u001b[39mdef\u001b[39;00m \u001b[39mopen_dataset\u001b[39m(  \u001b[39m# type: ignore[override]  # allow LSP violation, not supporting **kwargs\u001b[39;00m\n\u001b[1;32m    582\u001b[0m     \u001b[39mself\u001b[39m,\n\u001b[1;32m    583\u001b[0m     filename_or_obj: \u001b[39mstr\u001b[39m \u001b[39m|\u001b[39m os\u001b[39m.\u001b[39mPathLike[Any] \u001b[39m|\u001b[39m BufferedIOBase \u001b[39m|\u001b[39m AbstractDataStore,\n\u001b[0;32m   (...)\u001b[0m\n\u001b[1;32m    599\u001b[0m     autoclose\u001b[39m=\u001b[39m\u001b[39mFalse\u001b[39;00m,\n\u001b[1;32m    600\u001b[0m ) \u001b[39m-\u001b[39m\u001b[39m>\u001b[39m Dataset:\n\u001b[1;32m    601\u001b[0m     filename_or_obj \u001b[39m=\u001b[39m _normalize_path(filename_or_obj)\n\u001b[0;32m--> 602\u001b[0m     store \u001b[39m=\u001b[39m NetCDF4DataStore\u001b[39m.\u001b[39;49mopen(\n\u001b[1;32m    603\u001b[0m         filename_or_obj,\n\u001b[1;32m    604\u001b[0m         mode\u001b[39m=\u001b[39;49mmode,\n\u001b[1;32m    605\u001b[0m         \u001b[39mformat\u001b[39;49m\u001b[39m=\u001b[39;49m\u001b[39mformat\u001b[39;49m,\n\u001b[1;32m    606\u001b[0m         group\u001b[39m=\u001b[39;49mgroup,\n\u001b[1;32m    607\u001b[0m         clobber\u001b[39m=\u001b[39;49mclobber,\n\u001b[1;32m    608\u001b[0m         diskless\u001b[39m=\u001b[39;49mdiskless,\n\u001b[1;32m    609\u001b[0m         persist\u001b[39m=\u001b[39;49mpersist,\n\u001b[1;32m    610\u001b[0m         lock\u001b[39m=\u001b[39;49mlock,\n\u001b[1;32m    611\u001b[0m         autoclose\u001b[39m=\u001b[39;49mautoclose,\n\u001b[1;32m    612\u001b[0m     )\n\u001b[1;32m    614\u001b[0m     store_entrypoint \u001b[39m=\u001b[39m StoreBackendEntrypoint()\n\u001b[1;32m    615\u001b[0m     \u001b[39mwith\u001b[39;00m close_on_error(store):\n",
      "File \u001b[0;32m/Library/Frameworks/Python.framework/Versions/3.11/lib/python3.11/site-packages/xarray/backends/netCDF4_.py:400\u001b[0m, in \u001b[0;36mNetCDF4DataStore.open\u001b[0;34m(cls, filename, mode, format, group, clobber, diskless, persist, lock, lock_maker, autoclose)\u001b[0m\n\u001b[1;32m    394\u001b[0m kwargs \u001b[39m=\u001b[39m \u001b[39mdict\u001b[39m(\n\u001b[1;32m    395\u001b[0m     clobber\u001b[39m=\u001b[39mclobber, diskless\u001b[39m=\u001b[39mdiskless, persist\u001b[39m=\u001b[39mpersist, \u001b[39mformat\u001b[39m\u001b[39m=\u001b[39m\u001b[39mformat\u001b[39m\n\u001b[1;32m    396\u001b[0m )\n\u001b[1;32m    397\u001b[0m manager \u001b[39m=\u001b[39m CachingFileManager(\n\u001b[1;32m    398\u001b[0m     netCDF4\u001b[39m.\u001b[39mDataset, filename, mode\u001b[39m=\u001b[39mmode, kwargs\u001b[39m=\u001b[39mkwargs\n\u001b[1;32m    399\u001b[0m )\n\u001b[0;32m--> 400\u001b[0m \u001b[39mreturn\u001b[39;00m \u001b[39mcls\u001b[39;49m(manager, group\u001b[39m=\u001b[39;49mgroup, mode\u001b[39m=\u001b[39;49mmode, lock\u001b[39m=\u001b[39;49mlock, autoclose\u001b[39m=\u001b[39;49mautoclose)\n",
      "File \u001b[0;32m/Library/Frameworks/Python.framework/Versions/3.11/lib/python3.11/site-packages/xarray/backends/netCDF4_.py:347\u001b[0m, in \u001b[0;36mNetCDF4DataStore.__init__\u001b[0;34m(self, manager, group, mode, lock, autoclose)\u001b[0m\n\u001b[1;32m    345\u001b[0m \u001b[39mself\u001b[39m\u001b[39m.\u001b[39m_group \u001b[39m=\u001b[39m group\n\u001b[1;32m    346\u001b[0m \u001b[39mself\u001b[39m\u001b[39m.\u001b[39m_mode \u001b[39m=\u001b[39m mode\n\u001b[0;32m--> 347\u001b[0m \u001b[39mself\u001b[39m\u001b[39m.\u001b[39mformat \u001b[39m=\u001b[39m \u001b[39mself\u001b[39;49m\u001b[39m.\u001b[39;49mds\u001b[39m.\u001b[39mdata_model\n\u001b[1;32m    348\u001b[0m \u001b[39mself\u001b[39m\u001b[39m.\u001b[39m_filename \u001b[39m=\u001b[39m \u001b[39mself\u001b[39m\u001b[39m.\u001b[39mds\u001b[39m.\u001b[39mfilepath()\n\u001b[1;32m    349\u001b[0m \u001b[39mself\u001b[39m\u001b[39m.\u001b[39mis_remote \u001b[39m=\u001b[39m is_remote_uri(\u001b[39mself\u001b[39m\u001b[39m.\u001b[39m_filename)\n",
      "File \u001b[0;32m/Library/Frameworks/Python.framework/Versions/3.11/lib/python3.11/site-packages/xarray/backends/netCDF4_.py:409\u001b[0m, in \u001b[0;36mNetCDF4DataStore.ds\u001b[0;34m(self)\u001b[0m\n\u001b[1;32m    407\u001b[0m \u001b[39m@property\u001b[39m\n\u001b[1;32m    408\u001b[0m \u001b[39mdef\u001b[39;00m \u001b[39mds\u001b[39m(\u001b[39mself\u001b[39m):\n\u001b[0;32m--> 409\u001b[0m     \u001b[39mreturn\u001b[39;00m \u001b[39mself\u001b[39;49m\u001b[39m.\u001b[39;49m_acquire()\n",
      "File \u001b[0;32m/Library/Frameworks/Python.framework/Versions/3.11/lib/python3.11/site-packages/xarray/backends/netCDF4_.py:403\u001b[0m, in \u001b[0;36mNetCDF4DataStore._acquire\u001b[0;34m(self, needs_lock)\u001b[0m\n\u001b[1;32m    402\u001b[0m \u001b[39mdef\u001b[39;00m \u001b[39m_acquire\u001b[39m(\u001b[39mself\u001b[39m, needs_lock\u001b[39m=\u001b[39m\u001b[39mTrue\u001b[39;00m):\n\u001b[0;32m--> 403\u001b[0m     \u001b[39mwith\u001b[39;49;00m \u001b[39mself\u001b[39;49m\u001b[39m.\u001b[39;49m_manager\u001b[39m.\u001b[39;49macquire_context(needs_lock) \u001b[39mas\u001b[39;49;00m root:\n\u001b[1;32m    404\u001b[0m         ds \u001b[39m=\u001b[39;49m _nc4_require_group(root, \u001b[39mself\u001b[39;49m\u001b[39m.\u001b[39;49m_group, \u001b[39mself\u001b[39;49m\u001b[39m.\u001b[39;49m_mode)\n\u001b[1;32m    405\u001b[0m     \u001b[39mreturn\u001b[39;00m ds\n",
      "File \u001b[0;32m/Library/Frameworks/Python.framework/Versions/3.11/lib/python3.11/contextlib.py:137\u001b[0m, in \u001b[0;36m_GeneratorContextManager.__enter__\u001b[0;34m(self)\u001b[0m\n\u001b[1;32m    135\u001b[0m \u001b[39mdel\u001b[39;00m \u001b[39mself\u001b[39m\u001b[39m.\u001b[39margs, \u001b[39mself\u001b[39m\u001b[39m.\u001b[39mkwds, \u001b[39mself\u001b[39m\u001b[39m.\u001b[39mfunc\n\u001b[1;32m    136\u001b[0m \u001b[39mtry\u001b[39;00m:\n\u001b[0;32m--> 137\u001b[0m     \u001b[39mreturn\u001b[39;00m \u001b[39mnext\u001b[39m(\u001b[39mself\u001b[39m\u001b[39m.\u001b[39mgen)\n\u001b[1;32m    138\u001b[0m \u001b[39mexcept\u001b[39;00m \u001b[39mStopIteration\u001b[39;00m:\n\u001b[1;32m    139\u001b[0m     \u001b[39mraise\u001b[39;00m \u001b[39mRuntimeError\u001b[39;00m(\u001b[39m\"\u001b[39m\u001b[39mgenerator didn\u001b[39m\u001b[39m'\u001b[39m\u001b[39mt yield\u001b[39m\u001b[39m\"\u001b[39m) \u001b[39mfrom\u001b[39;00m \u001b[39mNone\u001b[39;00m\n",
      "File \u001b[0;32m/Library/Frameworks/Python.framework/Versions/3.11/lib/python3.11/site-packages/xarray/backends/file_manager.py:199\u001b[0m, in \u001b[0;36mCachingFileManager.acquire_context\u001b[0;34m(self, needs_lock)\u001b[0m\n\u001b[1;32m    196\u001b[0m \u001b[39m@contextlib\u001b[39m\u001b[39m.\u001b[39mcontextmanager\n\u001b[1;32m    197\u001b[0m \u001b[39mdef\u001b[39;00m \u001b[39macquire_context\u001b[39m(\u001b[39mself\u001b[39m, needs_lock\u001b[39m=\u001b[39m\u001b[39mTrue\u001b[39;00m):\n\u001b[1;32m    198\u001b[0m \u001b[39m    \u001b[39m\u001b[39m\"\"\"Context manager for acquiring a file.\"\"\"\u001b[39;00m\n\u001b[0;32m--> 199\u001b[0m     file, cached \u001b[39m=\u001b[39m \u001b[39mself\u001b[39;49m\u001b[39m.\u001b[39;49m_acquire_with_cache_info(needs_lock)\n\u001b[1;32m    200\u001b[0m     \u001b[39mtry\u001b[39;00m:\n\u001b[1;32m    201\u001b[0m         \u001b[39myield\u001b[39;00m file\n",
      "File \u001b[0;32m/Library/Frameworks/Python.framework/Versions/3.11/lib/python3.11/site-packages/xarray/backends/file_manager.py:217\u001b[0m, in \u001b[0;36mCachingFileManager._acquire_with_cache_info\u001b[0;34m(self, needs_lock)\u001b[0m\n\u001b[1;32m    215\u001b[0m     kwargs \u001b[39m=\u001b[39m kwargs\u001b[39m.\u001b[39mcopy()\n\u001b[1;32m    216\u001b[0m     kwargs[\u001b[39m\"\u001b[39m\u001b[39mmode\u001b[39m\u001b[39m\"\u001b[39m] \u001b[39m=\u001b[39m \u001b[39mself\u001b[39m\u001b[39m.\u001b[39m_mode\n\u001b[0;32m--> 217\u001b[0m file \u001b[39m=\u001b[39m \u001b[39mself\u001b[39;49m\u001b[39m.\u001b[39;49m_opener(\u001b[39m*\u001b[39;49m\u001b[39mself\u001b[39;49m\u001b[39m.\u001b[39;49m_args, \u001b[39m*\u001b[39;49m\u001b[39m*\u001b[39;49mkwargs)\n\u001b[1;32m    218\u001b[0m \u001b[39mif\u001b[39;00m \u001b[39mself\u001b[39m\u001b[39m.\u001b[39m_mode \u001b[39m==\u001b[39m \u001b[39m\"\u001b[39m\u001b[39mw\u001b[39m\u001b[39m\"\u001b[39m:\n\u001b[1;32m    219\u001b[0m     \u001b[39m# ensure file doesn't get overridden when opened again\u001b[39;00m\n\u001b[1;32m    220\u001b[0m     \u001b[39mself\u001b[39m\u001b[39m.\u001b[39m_mode \u001b[39m=\u001b[39m \u001b[39m\"\u001b[39m\u001b[39ma\u001b[39m\u001b[39m\"\u001b[39m\n",
      "File \u001b[0;32msrc/netCDF4/_netCDF4.pyx:2464\u001b[0m, in \u001b[0;36mnetCDF4._netCDF4.Dataset.__init__\u001b[0;34m()\u001b[0m\n",
      "File \u001b[0;32msrc/netCDF4/_netCDF4.pyx:2027\u001b[0m, in \u001b[0;36mnetCDF4._netCDF4._ensure_nc_success\u001b[0;34m()\u001b[0m\n",
      "\u001b[0;31mOSError\u001b[0m: [Errno -101] NetCDF: HDF error: '/Users/apple/.local/geodata/merra2/2011/01/MERRA2_400.tavg1_2d_flx_Nx.20110121.nc4'"
     ]
    }
   ],
   "source": [
    "cutout = Cutout(\n",
    "    name=\"merra2-europe-sub24-2011-01\",\n",
    "    module=\"merra2\",\n",
    "    weather_data_config=\"surface_flux_hourly\",\n",
    "    xs=slice(30, 41.56244222),\n",
    "    ys=slice(33.56459975, 35),\n",
    "    years=slice(2011, 2011),\n",
    "    months=slice(1,1)\n",
    ")\n",
    "cutout.prepare()\n",
    "# cutout_model = WindExtrapolationModel(cutout)\n",
    "# cutout_model.prepare()"
   ]
  },
  {
   "cell_type": "code",
   "execution_count": 1,
   "metadata": {},
   "outputs": [
    {
     "name": "stderr",
     "output_type": "stream",
     "text": [
      "/Library/Frameworks/Python.framework/Versions/3.11/lib/python3.11/site-packages/tqdm/auto.py:21: TqdmWarning: IProgress not found. Please update jupyter and ipywidgets. See https://ipywidgets.readthedocs.io/en/stable/user_install.html\n",
      "  from .autonotebook import tqdm as notebook_tqdm\n",
      "\u001b[33;1m2023-09-01 22:27:33,849 - geodata - WARNING - Numba not installed. Using pure Python implementation.\u001b[0m\n"
     ]
    }
   ],
   "source": [
    "from geodata import Dataset, Cutout\n",
    "from geodata.model.wind import WindExtrapolationModel\n",
    "import matplotlib.pyplot as plt\n",
    "import xarray as xr"
   ]
  },
  {
   "cell_type": "code",
   "execution_count": 5,
   "metadata": {},
   "outputs": [
    {
     "name": "stderr",
     "output_type": "stream",
     "text": [
      "\u001b[32m2023-09-01 22:29:54,852 - geodata.dataset - INFO - Using global bounds.\u001b[0m\n",
      "\u001b[32m2023-09-01 22:29:54,854 - geodata.dataset - INFO - Directory /Users/apple/.local/geodata/merra2 found, checking for completeness.\u001b[0m\n",
      "\u001b[32m2023-09-01 22:29:54,856 - geodata.dataset - INFO - Directory complete.\u001b[0m\n"
     ]
    }
   ],
   "source": [
    "DS = Dataset(\n",
    "    module=\"merra2\",\n",
    "    weather_data_config=\"surface_flux_monthly\",\n",
    "    years=slice(2010, 2010),\n",
    "    months=slice(1, 7),\n",
    ")"
   ]
  },
  {
   "cell_type": "code",
   "execution_count": null,
   "metadata": {},
   "outputs": [],
   "source": [
    "ds = xr.open_dataset(\"/Users/apple/.local/geodata/cutouts/tokyo-2010-test/201007.nc\")"
   ]
  },
  {
   "cell_type": "code",
   "execution_count": null,
   "metadata": {},
   "outputs": [],
   "source": [
    "for key in ds.keys():\n",
    "    print(key)"
   ]
  },
  {
   "cell_type": "code",
   "execution_count": 9,
   "metadata": {},
   "outputs": [
    {
     "name": "stderr",
     "output_type": "stream",
     "text": [
      "\u001b[32m2023-09-01 22:35:15,805 - geodata.cutout - INFO - All cutout (tokyo-2010-test, /Users/apple/.local/geodata/cutouts) files available.\u001b[0m\n",
      "\u001b[32m2023-09-01 22:35:15,820 - geodata.cutout - INFO - Cutout subset prepared: <Cutout tokyo-2010-test x=138.75-139.38 y=35.00-36.00 time=2010/7-2010/7 prepared>\u001b[0m\n",
      "\u001b[32m2023-09-01 22:35:15,820 - geodata.preparation - INFO - The cutout is already prepared. If you want to recalculate it, supply an `overwrite=True` argument.\u001b[0m\n",
      "\u001b[32m2023-09-01 22:35:15,821 - geodata - INFO - Using cutout tokyo-2010-test\u001b[0m\n",
      "\u001b[32m2023-09-01 22:35:15,823 - geodata - INFO - Model not present in model directory, creating.\u001b[0m\n",
      "\u001b[32m2023-09-01 22:35:15,825 - geodata - INFO - Preparing the model from cutout.\u001b[0m\n",
      "  0%|          | 0/1 [00:00<?, ?it/s]"
     ]
    },
    {
     "name": "stdout",
     "output_type": "stream",
     "text": [
      "ustar\n",
      "roughness\n",
      "disph\n",
      "rhoa\n",
      "ulml\n",
      "vlml\n",
      "tstar\n",
      "hlml\n",
      "tlml\n",
      "pblh\n",
      "hflux\n",
      "eflux\n",
      "wndlml\n",
      "temperature\n",
      "u50m\n",
      "False\n",
      "u10m\n",
      "False\n",
      "u2m\n",
      "False\n",
      "[[[4.369828   1.9654481 ]\n",
      "  [4.6524935  0.30287564]\n",
      "  [0.61990255 0.4035072 ]]]\n",
      "[]\n",
      "[]\n"
     ]
    },
    {
     "name": "stderr",
     "output_type": "stream",
     "text": [
      "\n"
     ]
    },
    {
     "ename": "ValueError",
     "evalue": "Dataset does not contain any other useable heights other than lml",
     "output_type": "error",
     "traceback": [
      "\u001b[0;31m---------------------------------------------------------------------------\u001b[0m",
      "\u001b[0;31mValueError\u001b[0m                                Traceback (most recent call last)",
      "Cell \u001b[0;32mIn[9], line 12\u001b[0m\n\u001b[1;32m     10\u001b[0m cutout\u001b[39m.\u001b[39mprepare()\n\u001b[1;32m     11\u001b[0m cutout_model \u001b[39m=\u001b[39m WindExtrapolationModel(cutout)\n\u001b[0;32m---> 12\u001b[0m cutout_model\u001b[39m.\u001b[39;49mprepare()\n",
      "File \u001b[0;32m~/Desktop/geodata/src/geodata/model/_base.py:299\u001b[0m, in \u001b[0;36mBaseModel.prepare\u001b[0;34m(self, force)\u001b[0m\n\u001b[1;32m    295\u001b[0m (\u001b[39mself\u001b[39m\u001b[39m.\u001b[39m_path \u001b[39m/\u001b[39m \u001b[39m\"\u001b[39m\u001b[39mnc4\u001b[39m\u001b[39m\"\u001b[39m)\u001b[39m.\u001b[39mmkdir(exist_ok\u001b[39m=\u001b[39m\u001b[39mTrue\u001b[39;00m, parents\u001b[39m=\u001b[39m\u001b[39mTrue\u001b[39;00m)\n\u001b[1;32m    297\u001b[0m \u001b[39mself\u001b[39m\u001b[39m.\u001b[39mmetadata[\u001b[39m\"\u001b[39m\u001b[39mfiles_prepared\u001b[39m\u001b[39m\"\u001b[39m] \u001b[39m=\u001b[39m {}\n\u001b[1;32m    298\u001b[0m \u001b[39mfor\u001b[39;00m fp \u001b[39min\u001b[39;00m (\n\u001b[0;32m--> 299\u001b[0m     \u001b[39mself\u001b[39m\u001b[39m.\u001b[39m_prepare_dataset() \u001b[39mif\u001b[39;00m \u001b[39mself\u001b[39m\u001b[39m.\u001b[39mfrom_dataset \u001b[39melse\u001b[39;00m \u001b[39mself\u001b[39;49m\u001b[39m.\u001b[39;49m_prepare_cutout()\n\u001b[1;32m    300\u001b[0m ):\n\u001b[1;32m    301\u001b[0m     \u001b[39mwith\u001b[39;00m \u001b[39mopen\u001b[39m(\u001b[39mself\u001b[39m\u001b[39m.\u001b[39m_path \u001b[39m/\u001b[39m fp, \u001b[39m\"\u001b[39m\u001b[39mrb\u001b[39m\u001b[39m\"\u001b[39m) \u001b[39mas\u001b[39;00m f:\n\u001b[1;32m    302\u001b[0m         \u001b[39mself\u001b[39m\u001b[39m.\u001b[39mmetadata[\u001b[39m\"\u001b[39m\u001b[39mfiles_prepared\u001b[39m\u001b[39m\"\u001b[39m][fp] \u001b[39m=\u001b[39m hashlib\u001b[39m.\u001b[39msha256(\n\u001b[1;32m    303\u001b[0m             f\u001b[39m.\u001b[39mread()\n\u001b[1;32m    304\u001b[0m         )\u001b[39m.\u001b[39mhexdigest()\n",
      "File \u001b[0;32m~/Desktop/geodata/src/geodata/model/wind/_base.py:113\u001b[0m, in \u001b[0;36mWindBaseModel._prepare_cutout\u001b[0;34m(self)\u001b[0m\n\u001b[1;32m    111\u001b[0m ds \u001b[39m=\u001b[39m xr\u001b[39m.\u001b[39mopen_dataset(orig_ds_path)\n\u001b[1;32m    112\u001b[0m \u001b[39mtry\u001b[39;00m:\n\u001b[0;32m--> 113\u001b[0m     ds \u001b[39m=\u001b[39m \u001b[39mself\u001b[39;49m\u001b[39m.\u001b[39;49m_prepare_fn(ds)\n\u001b[1;32m    114\u001b[0m \u001b[39mexcept\u001b[39;00m \u001b[39mSystemError\u001b[39;00m:\n\u001b[1;32m    115\u001b[0m     logger\u001b[39m.\u001b[39mwarning(\n\u001b[1;32m    116\u001b[0m         \u001b[39m\"\u001b[39m\u001b[39mCould not compute wind speed of \u001b[39m\u001b[39m%s\u001b[39;00m\u001b[39m, possibly due to corrupt file.\u001b[39m\u001b[39m\"\u001b[39m,\n\u001b[1;32m    117\u001b[0m         orig_ds_path\u001b[39m.\u001b[39mname,\n\u001b[1;32m    118\u001b[0m     )\n",
      "File \u001b[0;32m~/Desktop/geodata/src/geodata/model/wind/extrapolate.py:127\u001b[0m, in \u001b[0;36mWindExtrapolationModel._prepare_fn\u001b[0;34m(self, ds, compute_lml, half_precision, compute_residuals)\u001b[0m\n\u001b[1;32m    125\u001b[0m \u001b[39m# Basic sanity check\u001b[39;00m\n\u001b[1;32m    126\u001b[0m \u001b[39mif\u001b[39;00m \u001b[39m0\u001b[39m \u001b[39min\u001b[39;00m heights\u001b[39m.\u001b[39mshape:\n\u001b[0;32m--> 127\u001b[0m     \u001b[39mraise\u001b[39;00m \u001b[39mValueError\u001b[39;00m(\n\u001b[1;32m    128\u001b[0m         \u001b[39m\"\u001b[39m\u001b[39mDataset does not contain any other useable heights other than lml\u001b[39m\u001b[39m\"\u001b[39m\n\u001b[1;32m    129\u001b[0m     )\n\u001b[1;32m    131\u001b[0m \u001b[39mif\u001b[39;00m compute_lml:\n\u001b[1;32m    132\u001b[0m     hlml \u001b[39m=\u001b[39m ds[\u001b[39m\"\u001b[39m\u001b[39mhlml\u001b[39m\u001b[39m\"\u001b[39m]\u001b[39m.\u001b[39mvalues\n",
      "\u001b[0;31mValueError\u001b[0m: Dataset does not contain any other useable heights other than lml"
     ]
    }
   ],
   "source": [
    "cutout = Cutout(\n",
    "    name=\"tokyo-2010-test\",\n",
    "    module=\"merra2\",\n",
    "    weather_data_config=\"surface_flux_monthly\",\n",
    "    xs=slice(138.5, 139.5),\n",
    "    ys=slice(35, 36),\n",
    "    years=slice(2010, 2010),\n",
    "    months=slice(7, 7),\n",
    ")\n",
    "\n",
    "cutout_model = WindExtrapolationModel(cutout)\n",
    "cutout_model.prepare()"
   ]
  },
  {
   "cell_type": "code",
   "execution_count": null,
   "metadata": {},
   "outputs": [],
   "source": [
    "cutout_speed = cutout_model.estimate(\n",
    "    height=42, \n",
    "    years=slice(2010, 2010), \n",
    "    months=slice(1, 1),\n",
    "    xs=slice(67, 125),\n",
    "    ys=slice(25, 50)\n",
    ")"
   ]
  }
 ],
 "metadata": {
  "kernelspec": {
   "display_name": "Python 3 (ipykernel)",
   "language": "python",
   "name": "python3"
  },
  "language_info": {
   "codemirror_mode": {
    "name": "ipython",
    "version": 3
   },
   "file_extension": ".py",
   "mimetype": "text/x-python",
   "name": "python",
   "nbconvert_exporter": "python",
   "pygments_lexer": "ipython3",
   "version": "3.11.4"
  }
 },
 "nbformat": 4,
 "nbformat_minor": 2
}
