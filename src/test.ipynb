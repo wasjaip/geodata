{
 "cells": [
  {
   "cell_type": "code",
   "execution_count": 1,
   "metadata": {},
   "outputs": [
    {
     "name": "stderr",
     "output_type": "stream",
     "text": [
      "/Library/Frameworks/Python.framework/Versions/3.11/lib/python3.11/site-packages/tqdm/auto.py:21: TqdmWarning: IProgress not found. Please update jupyter and ipywidgets. See https://ipywidgets.readthedocs.io/en/stable/user_install.html\n",
      "  from .autonotebook import tqdm as notebook_tqdm\n",
      "\u001b[33;1m2023-08-25 00:05:25,090 - geodata - WARNING - Numba not installed. Using pure Python implementation.\u001b[0m\n"
     ]
    }
   ],
   "source": [
    "from geodata import Dataset\n",
    "from geodata.model.wind import WindExtrapolationModel\n",
    "import matplotlib.pyplot as plt\n",
    "import xarray as xr\n",
    "import pandas as pd\n",
    "import numpy as np"
   ]
  },
  {
   "cell_type": "code",
   "execution_count": 2,
   "metadata": {},
   "outputs": [
    {
     "name": "stderr",
     "output_type": "stream",
     "text": [
      "\u001b[32m2023-08-25 00:05:27,609 - geodata.dataset - INFO - Using global bounds.\u001b[0m\n",
      "\u001b[32m2023-08-25 00:05:27,611 - geodata.dataset - INFO - Directory /Users/apple/.local/geodata/merra2 found, checking for completeness.\u001b[0m\n",
      "\u001b[32m2023-08-25 00:05:27,613 - geodata.dataset - INFO - Directory complete.\u001b[0m\n",
      "\u001b[32m2023-08-25 00:05:35,571 - geodata - INFO - The model is already prepared.\u001b[0m\n"
     ]
    }
   ],
   "source": [
    "dataset = Dataset(\n",
    "    module=\"merra2\",\n",
    "    weather_data_config=\"slv_flux_hourly\",\n",
    "    years=slice(2010, 2010),\n",
    "    months=slice(1,1)\n",
    ")\n",
    "\n",
    "model = WindExtrapolationModel(dataset)\n",
    "model.prepare()\n",
    "ds = xr.open_mfdataset(model.files)"
   ]
  },
  {
   "cell_type": "code",
   "execution_count": null,
   "metadata": {},
   "outputs": [],
   "source": [
    "speed1 = model.estimate(\n",
    "    height=2,\n",
    "    years=slice(2010, 2010),\n",
    "    months=slice(1, 1)\n",
    ")"
   ]
  },
  {
   "cell_type": "code",
   "execution_count": null,
   "metadata": {},
   "outputs": [],
   "source": [
    "speed1loc = speed1.isel(lat=0, lon=0)\n",
    "speed1loc = speed1loc.load()"
   ]
  },
  {
   "cell_type": "code",
   "execution_count": null,
   "metadata": {},
   "outputs": [],
   "source": [
    "speed2 = model.estimate(\n",
    "    height=10,\n",
    "    years=slice(2010, 2010),\n",
    "    months=slice(1, 1)\n",
    ")"
   ]
  },
  {
   "cell_type": "code",
   "execution_count": null,
   "metadata": {},
   "outputs": [],
   "source": [
    "speed2loc = speed2.isel(lat=0, lon=0)\n",
    "speed2loc = speed2loc.load()"
   ]
  },
  {
   "cell_type": "code",
   "execution_count": null,
   "metadata": {},
   "outputs": [],
   "source": [
    "speed3 = model.estimate(\n",
    "    height=50,\n",
    "    years=slice(2010, 2010),\n",
    "    months=slice(1, 1)\n",
    ")"
   ]
  },
  {
   "cell_type": "code",
   "execution_count": null,
   "metadata": {},
   "outputs": [],
   "source": [
    "speed3loc = speed3.isel(lat=0, lon=0)\n",
    "speed3loc = speed3loc.load()"
   ]
  },
  {
   "cell_type": "code",
   "execution_count": null,
   "metadata": {},
   "outputs": [],
   "source": [
    "speed4 = model.estimate(\n",
    "    height=80, # extrapolation in high heights\n",
    "    years=slice(2010, 2010),\n",
    "    months=slice(1, 1)\n",
    ")"
   ]
  },
  {
   "cell_type": "markdown",
   "metadata": {},
   "source": [
    "log pattern, actual hub height (no need for model)\n"
   ]
  },
  {
   "cell_type": "code",
   "execution_count": null,
   "metadata": {},
   "outputs": [],
   "source": [
    "speed4loc = speed4.isel(lat=0, lon=0)\n",
    "speed4loc = speed4loc.load()"
   ]
  },
  {
   "cell_type": "code",
   "execution_count": null,
   "metadata": {},
   "outputs": [],
   "source": [
    "plt.plot(speed1loc, label='H = 2');\n",
    "plt.plot(speed2loc, label='H = 10');\n",
    "plt.plot(speed3loc, label='H = 50');\n",
    "plt.plot(speed4loc, label='H = 80');\n",
    "plt.legend()\n",
    "plt.show()"
   ]
  },
  {
   "cell_type": "code",
   "execution_count": null,
   "metadata": {},
   "outputs": [],
   "source": [
    "plt.plot([2, 10, 50, 80], \n",
    "         [speed1.isel(lon=0, lat=0, time=0).values,\n",
    "          speed2.isel(lon=0, lat=0, time=0).values,\n",
    "          speed3.isel(lon=0, lat=0, time=0).values,\n",
    "          speed4.isel(lon=0, lat=0, time=0).values]\n",
    "        );"
   ]
  },
  {
   "cell_type": "code",
   "execution_count": null,
   "metadata": {},
   "outputs": [],
   "source": []
  }
 ],
 "metadata": {
  "kernelspec": {
   "display_name": "Python 3 (ipykernel)",
   "language": "python",
   "name": "python3"
  },
  "language_info": {
   "codemirror_mode": {
    "name": "ipython",
    "version": 3
   },
   "file_extension": ".py",
   "mimetype": "text/x-python",
   "name": "python",
   "nbconvert_exporter": "python",
   "pygments_lexer": "ipython3",
   "version": "3.11.4"
  }
 },
 "nbformat": 4,
 "nbformat_minor": 2
}
