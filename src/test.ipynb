{
 "cells": [
  {
   "cell_type": "code",
   "execution_count": 1,
   "metadata": {},
   "outputs": [
    {
     "name": "stderr",
     "output_type": "stream",
     "text": [
      "/Library/Frameworks/Python.framework/Versions/3.11/lib/python3.11/site-packages/tqdm/auto.py:21: TqdmWarning: IProgress not found. Please update jupyter and ipywidgets. See https://ipywidgets.readthedocs.io/en/stable/user_install.html\n",
      "  from .autonotebook import tqdm as notebook_tqdm\n",
      "\u001b[33;1m2023-08-26 09:41:17,648 - geodata - WARNING - Numba not installed. Using pure Python implementation.\u001b[0m\n"
     ]
    }
   ],
   "source": [
    "from geodata import Dataset, Cutout\n",
    "from geodata.model.wind import WindExtrapolationModel\n",
    "import matplotlib.pyplot as plt\n",
    "import xarray as xr\n",
    "import pandas as pd\n",
    "import numpy as np"
   ]
  },
  {
   "cell_type": "markdown",
   "metadata": {},
   "source": [
    "### Dataset Testing"
   ]
  },
  {
   "cell_type": "code",
   "execution_count": 2,
   "metadata": {},
   "outputs": [
    {
     "name": "stderr",
     "output_type": "stream",
     "text": [
      "\u001b[32m2023-08-26 09:41:22,014 - geodata.dataset - INFO - Using global bounds.\u001b[0m\n",
      "\u001b[32m2023-08-26 09:41:22,016 - geodata.dataset - INFO - Directory /Users/apple/.local/geodata/merra2 found, checking for completeness.\u001b[0m\n",
      "\u001b[32m2023-08-26 09:41:22,017 - geodata.dataset - INFO - Directory complete.\u001b[0m\n",
      "\u001b[32m2023-08-26 09:41:30,093 - geodata - INFO - The model is already prepared.\u001b[0m\n"
     ]
    }
   ],
   "source": [
    "dataset = Dataset(\n",
    "    module=\"merra2\",\n",
    "    weather_data_config=\"slv_flux_hourly\",\n",
    "    years=slice(2010, 2010),\n",
    "    months=slice(1,1)\n",
    ")\n",
    "\n",
    "model = WindExtrapolationModel(dataset)\n",
    "model.prepare()\n",
    "ds = xr.open_mfdataset(model.files)"
   ]
  },
  {
   "cell_type": "code",
   "execution_count": null,
   "metadata": {},
   "outputs": [],
   "source": [
    "speed1 = model.estimate(\n",
    "    height=2,\n",
    "    years=slice(2010, 2010),\n",
    "    months=slice(1, 1)\n",
    ")"
   ]
  },
  {
   "cell_type": "code",
   "execution_count": null,
   "metadata": {},
   "outputs": [],
   "source": [
    "speed1loc = speed1.isel(lat=0, lon=0)\n",
    "speed1loc = speed1loc.load()"
   ]
  },
  {
   "cell_type": "code",
   "execution_count": null,
   "metadata": {},
   "outputs": [],
   "source": [
    "speed2 = model.estimate(\n",
    "    height=10,\n",
    "    years=slice(2010, 2010),\n",
    "    months=slice(1, 1)\n",
    ")"
   ]
  },
  {
   "cell_type": "code",
   "execution_count": null,
   "metadata": {},
   "outputs": [],
   "source": [
    "speed2loc = speed2.isel(lat=0, lon=0)\n",
    "speed2loc = speed2loc.load()"
   ]
  },
  {
   "cell_type": "code",
   "execution_count": null,
   "metadata": {},
   "outputs": [],
   "source": [
    "speed3 = model.estimate(\n",
    "    height=50,\n",
    "    years=slice(2010, 2010),\n",
    "    months=slice(1, 1)\n",
    ")"
   ]
  },
  {
   "cell_type": "code",
   "execution_count": null,
   "metadata": {},
   "outputs": [],
   "source": [
    "speed3loc = speed3.isel(lat=0, lon=0)\n",
    "speed3loc = speed3loc.load()"
   ]
  },
  {
   "cell_type": "code",
   "execution_count": null,
   "metadata": {},
   "outputs": [],
   "source": [
    "speed4 = model.estimate(\n",
    "    height=80, # extrapolation in high heights\n",
    "    years=slice(2010, 2010),\n",
    "    months=slice(1, 1)\n",
    ")"
   ]
  },
  {
   "cell_type": "code",
   "execution_count": null,
   "metadata": {},
   "outputs": [],
   "source": [
    "speed4loc = speed4.isel(lat=0, lon=0)\n",
    "speed4loc = speed4loc.load()"
   ]
  },
  {
   "cell_type": "code",
   "execution_count": null,
   "metadata": {},
   "outputs": [],
   "source": [
    "plt.plot(speed1loc, label='H = 2');\n",
    "plt.plot(speed2loc, label='H = 10');\n",
    "plt.plot(speed3loc, label='H = 50');\n",
    "plt.plot(speed4loc, label='H = 80');\n",
    "plt.legend()\n",
    "plt.show()"
   ]
  },
  {
   "cell_type": "code",
   "execution_count": null,
   "metadata": {},
   "outputs": [],
   "source": [
    "plt.plot([2, 10, 50, 80], \n",
    "         [speed1.isel(lon=0, lat=0, time=0).values,\n",
    "          speed2.isel(lon=0, lat=0, time=0).values,\n",
    "          speed3.isel(lon=0, lat=0, time=0).values,\n",
    "          speed4.isel(lon=0, lat=0, time=0).values]\n",
    "        );"
   ]
  },
  {
   "cell_type": "markdown",
   "metadata": {},
   "source": [
    "### Cutout Testing"
   ]
  },
  {
   "cell_type": "code",
   "execution_count": 7,
   "metadata": {},
   "outputs": [
    {
     "name": "stderr",
     "output_type": "stream",
     "text": [
      "\u001b[32m2023-08-26 09:43:06,073 - geodata.dataset - INFO - Using global bounds.\u001b[0m\n",
      "\u001b[32m2023-08-26 09:43:06,074 - geodata.dataset - INFO - Directory /Users/apple/.local/geodata/merra2 found, checking for completeness.\u001b[0m\n",
      "\u001b[32m2023-08-26 09:43:06,075 - geodata.dataset - INFO - Directory complete.\u001b[0m\n"
     ]
    }
   ],
   "source": [
    "DS = Dataset(\n",
    "    module=\"merra2\",\n",
    "    weather_data_config=\"surface_flux_monthly\",\n",
    "    years=slice(2010, 2010),\n",
    "    months=slice(1, 7),\n",
    ")"
   ]
  },
  {
   "cell_type": "code",
   "execution_count": 42,
   "metadata": {},
   "outputs": [
    {
     "name": "stderr",
     "output_type": "stream",
     "text": [
      "\u001b[32m2023-08-26 10:00:24,838 - geodata.cutout - INFO - All cutout (tokyo-2010-test, /Users/apple/.local/geodata/cutouts) files available.\u001b[0m\n",
      "\u001b[32m2023-08-26 10:00:24,845 - geodata.cutout - INFO - Cutout subset prepared: <Cutout tokyo-2010-test x=138.75-139.38 y=35.00-36.00 time=2010/7-2010/7 prepared>\u001b[0m\n",
      "\u001b[32m2023-08-26 10:00:24,846 - geodata.preparation - INFO - The cutout is already prepared. If you want to recalculate it, supply an `overwrite=True` argument.\u001b[0m\n"
     ]
    },
    {
     "data": {
      "text/plain": [
       "True"
      ]
     },
     "execution_count": 42,
     "metadata": {},
     "output_type": "execute_result"
    }
   ],
   "source": [
    "cutout = Cutout(\n",
    "    name=\"tokyo-2010-test\",\n",
    "    module=\"merra2\",\n",
    "    weather_data_config=\"surface_flux_monthly\",\n",
    "    xs=slice(138.5, 139.5),\n",
    "    ys=slice(35, 36),\n",
    "    years=slice(2010, 2010),\n",
    "    months=slice(7, 7),\n",
    ")\n",
    "cutout.prepare()"
   ]
  },
  {
   "cell_type": "code",
   "execution_count": 49,
   "metadata": {},
   "outputs": [
    {
     "data": {
      "text/plain": [
       "{'tasks_func': <function geodata.datasets.merra2.tasks_monthly_merra2(xs, ys, yearmonths, prepare_func, **meta_attrs)>,\n",
       " 'prepare_func': <function geodata.datasets.merra2.prepare_meta_merra2(xs, ys, year, month, template, module, **params)>,\n",
       " 'template': '/Users/apple/.local/geodata/merra2/{year}/MERRA2_*.tavgM_2d_flx_Nx.*.nc4',\n",
       " 'file_granularity': 'monthly'}"
      ]
     },
     "execution_count": 49,
     "metadata": {},
     "output_type": "execute_result"
    }
   ],
   "source": [
    "cutout.meta_data_config"
   ]
  },
  {
   "cell_type": "code",
   "execution_count": 32,
   "metadata": {},
   "outputs": [],
   "source": [
    "from calendar import monthrange\n",
    "yrs = range(2010, 2011)\n",
    "mos = range(7, 8)\n",
    "mo_tuples = [(yr, mo, monthrange(yr, mo)[1]) for yr in yrs for mo in mos]"
   ]
  },
  {
   "cell_type": "code",
   "execution_count": 51,
   "metadata": {},
   "outputs": [
    {
     "data": {
      "text/plain": [
       "'/Users/apple/.local/geodata/cutouts/tokyo-2010-test/201007.nc'"
      ]
     },
     "execution_count": 51,
     "metadata": {},
     "output_type": "execute_result"
    }
   ],
   "source": [
    "cutout.datasetfn(2010, 7)"
   ]
  },
  {
   "cell_type": "code",
   "execution_count": 48,
   "metadata": {},
   "outputs": [
    {
     "name": "stdout",
     "output_type": "stream",
     "text": [
      "2010 7 1\n",
      "/Users/apple/.local/geodata/cutouts/tokyo-2010-test/meta.nc\n",
      "2010 7 2\n",
      "/Users/apple/.local/geodata/cutouts/tokyo-2010-test/meta.nc\n",
      "2010 7 3\n",
      "/Users/apple/.local/geodata/cutouts/tokyo-2010-test/meta.nc\n",
      "2010 7 4\n",
      "/Users/apple/.local/geodata/cutouts/tokyo-2010-test/meta.nc\n",
      "2010 7 5\n",
      "/Users/apple/.local/geodata/cutouts/tokyo-2010-test/meta.nc\n",
      "2010 7 6\n",
      "/Users/apple/.local/geodata/cutouts/tokyo-2010-test/meta.nc\n",
      "2010 7 7\n",
      "/Users/apple/.local/geodata/cutouts/tokyo-2010-test/meta.nc\n",
      "2010 7 8\n",
      "/Users/apple/.local/geodata/cutouts/tokyo-2010-test/meta.nc\n",
      "2010 7 9\n",
      "/Users/apple/.local/geodata/cutouts/tokyo-2010-test/meta.nc\n",
      "2010 7 10\n",
      "/Users/apple/.local/geodata/cutouts/tokyo-2010-test/meta.nc\n",
      "2010 7 11\n",
      "/Users/apple/.local/geodata/cutouts/tokyo-2010-test/meta.nc\n",
      "2010 7 12\n",
      "/Users/apple/.local/geodata/cutouts/tokyo-2010-test/meta.nc\n",
      "2010 7 13\n",
      "/Users/apple/.local/geodata/cutouts/tokyo-2010-test/meta.nc\n",
      "2010 7 14\n",
      "/Users/apple/.local/geodata/cutouts/tokyo-2010-test/meta.nc\n",
      "2010 7 15\n",
      "/Users/apple/.local/geodata/cutouts/tokyo-2010-test/meta.nc\n",
      "2010 7 16\n",
      "/Users/apple/.local/geodata/cutouts/tokyo-2010-test/meta.nc\n",
      "2010 7 17\n",
      "/Users/apple/.local/geodata/cutouts/tokyo-2010-test/meta.nc\n",
      "2010 7 18\n",
      "/Users/apple/.local/geodata/cutouts/tokyo-2010-test/meta.nc\n",
      "2010 7 19\n",
      "/Users/apple/.local/geodata/cutouts/tokyo-2010-test/meta.nc\n",
      "2010 7 20\n",
      "/Users/apple/.local/geodata/cutouts/tokyo-2010-test/meta.nc\n",
      "2010 7 21\n",
      "/Users/apple/.local/geodata/cutouts/tokyo-2010-test/meta.nc\n",
      "2010 7 22\n",
      "/Users/apple/.local/geodata/cutouts/tokyo-2010-test/meta.nc\n",
      "2010 7 23\n",
      "/Users/apple/.local/geodata/cutouts/tokyo-2010-test/meta.nc\n",
      "2010 7 24\n",
      "/Users/apple/.local/geodata/cutouts/tokyo-2010-test/meta.nc\n",
      "2010 7 25\n",
      "/Users/apple/.local/geodata/cutouts/tokyo-2010-test/meta.nc\n",
      "2010 7 26\n",
      "/Users/apple/.local/geodata/cutouts/tokyo-2010-test/meta.nc\n",
      "2010 7 27\n",
      "/Users/apple/.local/geodata/cutouts/tokyo-2010-test/meta.nc\n",
      "2010 7 28\n",
      "/Users/apple/.local/geodata/cutouts/tokyo-2010-test/meta.nc\n",
      "2010 7 29\n",
      "/Users/apple/.local/geodata/cutouts/tokyo-2010-test/meta.nc\n",
      "2010 7 30\n",
      "/Users/apple/.local/geodata/cutouts/tokyo-2010-test/meta.nc\n",
      "2010 7 31\n",
      "/Users/apple/.local/geodata/cutouts/tokyo-2010-test/meta.nc\n"
     ]
    }
   ],
   "source": [
    "for mo_tuple in mo_tuples:\n",
    "    # format: (yr, mo, number_days_in_month)\n",
    "    yr, mo, nodays = mo_tuple\n",
    "    for day in range(1, nodays + 1, 1):\n",
    "        filename = cutout.datasetfn(yr, mo, day)\n",
    "        print(filename)"
   ]
  },
  {
   "cell_type": "code",
   "execution_count": null,
   "metadata": {},
   "outputs": [],
   "source": []
  }
 ],
 "metadata": {
  "kernelspec": {
   "display_name": "Python 3 (ipykernel)",
   "language": "python",
   "name": "python3"
  },
  "language_info": {
   "codemirror_mode": {
    "name": "ipython",
    "version": 3
   },
   "file_extension": ".py",
   "mimetype": "text/x-python",
   "name": "python",
   "nbconvert_exporter": "python",
   "pygments_lexer": "ipython3",
   "version": "3.11.4"
  }
 },
 "nbformat": 4,
 "nbformat_minor": 2
}
