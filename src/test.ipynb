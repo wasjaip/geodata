{
 "cells": [
  {
   "cell_type": "code",
   "execution_count": null,
   "metadata": {},
   "outputs": [],
   "source": [
    "from geodata import Dataset, Cutout\n",
    "from geodata.model.wind import WindExtrapolationModel\n",
    "import matplotlib.pyplot as plt\n",
    "import xarray as xr"
   ]
  },
  {
   "cell_type": "markdown",
   "metadata": {},
   "source": [
    "### Dataset Testing"
   ]
  },
  {
   "cell_type": "code",
   "execution_count": null,
   "metadata": {},
   "outputs": [],
   "source": [
    "dataset = Dataset(\n",
    "    module=\"merra2\",\n",
    "    weather_data_config=\"slv_flux_hourly\",\n",
    "    years=slice(2010, 2010),\n",
    "    months=slice(1,1)\n",
    ")\n",
    "\n",
    "model = WindExtrapolationModel(dataset)\n",
    "model.prepare()"
   ]
  },
  {
   "cell_type": "code",
   "execution_count": null,
   "metadata": {},
   "outputs": [],
   "source": [
    "speed1 = model.estimate(\n",
    "    height=2,\n",
    "    years=slice(2010, 2010),\n",
    "    months=slice(1, 1)\n",
    ")"
   ]
  },
  {
   "cell_type": "code",
   "execution_count": null,
   "metadata": {},
   "outputs": [],
   "source": [
    "speed1loc = speed1.isel(lat=0, lon=0)\n",
    "speed1loc = speed1loc.load()"
   ]
  },
  {
   "cell_type": "code",
   "execution_count": null,
   "metadata": {},
   "outputs": [],
   "source": [
    "speed2 = model.estimate(\n",
    "    height=10,\n",
    "    years=slice(2010, 2010),\n",
    "    months=slice(1, 1)\n",
    ")"
   ]
  },
  {
   "cell_type": "code",
   "execution_count": null,
   "metadata": {},
   "outputs": [],
   "source": [
    "speed2loc = speed2.isel(lat=0, lon=0)\n",
    "speed2loc = speed2loc.load()"
   ]
  },
  {
   "cell_type": "code",
   "execution_count": null,
   "metadata": {},
   "outputs": [],
   "source": [
    "speed3 = model.estimate(\n",
    "    height=50,\n",
    "    years=slice(2010, 2010),\n",
    "    months=slice(1, 1)\n",
    ")"
   ]
  },
  {
   "cell_type": "code",
   "execution_count": null,
   "metadata": {},
   "outputs": [],
   "source": [
    "speed3loc = speed3.isel(lat=0, lon=0)\n",
    "speed3loc = speed3loc.load()"
   ]
  },
  {
   "cell_type": "code",
   "execution_count": null,
   "metadata": {},
   "outputs": [],
   "source": [
    "speed4 = model.estimate(\n",
    "    height=80, # extrapolation in high heights\n",
    "    years=slice(2010, 2010),\n",
    "    months=slice(1, 1)\n",
    ")"
   ]
  },
  {
   "cell_type": "code",
   "execution_count": null,
   "metadata": {},
   "outputs": [],
   "source": [
    "speed4loc = speed4.isel(lat=0, lon=0)\n",
    "speed4loc = speed4loc.load()"
   ]
  },
  {
   "cell_type": "code",
   "execution_count": null,
   "metadata": {},
   "outputs": [],
   "source": [
    "plt.plot(speed1loc, label='H = 2');\n",
    "plt.plot(speed2loc, label='H = 10');\n",
    "plt.plot(speed3loc, label='H = 50');\n",
    "plt.plot(speed4loc, label='H = 80');\n",
    "plt.legend()\n",
    "plt.show()"
   ]
  },
  {
   "cell_type": "code",
   "execution_count": null,
   "metadata": {},
   "outputs": [],
   "source": [
    "plt.plot([2, 10, 50, 80], \n",
    "         [speed1.isel(lon=0, lat=0, time=0).values,\n",
    "          speed2.isel(lon=0, lat=0, time=0).values,\n",
    "          speed3.isel(lon=0, lat=0, time=0).values,\n",
    "          speed4.isel(lon=0, lat=0, time=0).values]\n",
    "        );"
   ]
  },
  {
   "cell_type": "markdown",
   "metadata": {},
   "source": [
    "### Cutout Testing"
   ]
  },
  {
   "cell_type": "code",
   "execution_count": 1,
   "metadata": {},
   "outputs": [
    {
     "name": "stderr",
     "output_type": "stream",
     "text": [
      "/Library/Frameworks/Python.framework/Versions/3.11/lib/python3.11/site-packages/tqdm/auto.py:21: TqdmWarning: IProgress not found. Please update jupyter and ipywidgets. See https://ipywidgets.readthedocs.io/en/stable/user_install.html\n",
      "  from .autonotebook import tqdm as notebook_tqdm\n",
      "\u001b[33;1m2023-09-08 23:50:27,194 - geodata - WARNING - Numba not installed. Using pure Python implementation.\u001b[0m\n"
     ]
    }
   ],
   "source": [
    "from geodata import Dataset, Cutout\n",
    "from geodata.model.wind import WindExtrapolationModel\n",
    "import matplotlib.pyplot as plt\n",
    "import xarray as xr"
   ]
  },
  {
   "cell_type": "code",
   "execution_count": 2,
   "metadata": {},
   "outputs": [
    {
     "name": "stderr",
     "output_type": "stream",
     "text": [
      "\u001b[32m2023-09-08 23:50:27,243 - geodata.cutout - INFO - All cutout (tokyo-2010-test, /Users/apple/.local/geodata/cutouts) files available.\u001b[0m\n",
      "\u001b[32m2023-09-08 23:50:27,247 - geodata.cutout - INFO - Cutout subset prepared: <Cutout tokyo-2010-test x=138.75-139.38 y=35.00-36.00 time=2010/1-2010/1 prepared>\u001b[0m\n"
     ]
    }
   ],
   "source": [
    "cutout = Cutout(\n",
    "    name=\"tokyo-2010-test\",\n",
    "    module=\"merra2\",\n",
    "    weather_data_config=\"slv_flux_hourly\",\n",
    "    xs=slice(138.5, 139.5),\n",
    "    ys=slice(35, 36),\n",
    "    years=slice(2010, 2010),\n",
    "    months=slice(1, 1),\n",
    ")"
   ]
  },
  {
   "cell_type": "code",
   "execution_count": 3,
   "metadata": {},
   "outputs": [
    {
     "name": "stderr",
     "output_type": "stream",
     "text": [
      "\u001b[33;1m2023-09-08 23:50:27,251 - geodata - WARNING - Metadata file /Users/apple/.local/geodata/models/wind/tokyo-2010-test/meta.json is corrupted. Model will be re-prepared.\u001b[0m\n",
      "\u001b[32m2023-09-08 23:50:27,251 - geodata - INFO - Using cutout tokyo-2010-test\u001b[0m\n",
      "\u001b[32m2023-09-08 23:50:27,252 - geodata - INFO - Model not present in model directory, creating.\u001b[0m\n",
      "\u001b[32m2023-09-08 23:50:27,254 - geodata - INFO - Preparing the model from cutout.\u001b[0m\n",
      "  0%|          | 0/1 [00:00<?, ?it/s]/Users/apple/Desktop/geodata/src/geodata/model/wind/extrapolate.py:57: FutureWarning: `rcond` parameter will change to the default of machine precision times ``max(M, N)`` where M and N are the input matrix dimensions.\n",
      "To use the future default and silence this warning we advise to pass `rcond=None`, to keep using the old, explicitly pass `rcond=-1`.\n",
      "  coeff, residual, _, _ = np.linalg.lstsq(a, b)\n",
      "100%|██████████| 1/1 [00:00<00:00, 12.59it/s]\n",
      "\u001b[32m2023-09-08 23:50:27,342 - geodata - INFO - Finished preparing model.\u001b[0m\n"
     ]
    },
    {
     "name": "stdout",
     "output_type": "stream",
     "text": [
      "{'name': 'tokyo-2010-test', 'module': 'merra2', 'from_dataset': False, 'years': (2010, 2010), 'months': (1, 1), 'weather_data_config': 'slv_flux_hourly', 'files_prepared': {'nc4/201001.params.nc4': 'b75fcc68e899461029144d0189175847c981339ce8cd85bd3739d1cdf6d9b493'}, 'files_orig': {'tokyo-2010-test/201001.nc': 'dd05a805854bf97e6971b4295a3debbc64c4a7130a26a2b3332a8aee3d4a40ab'}}\n"
     ]
    }
   ],
   "source": [
    "cutout_model = WindExtrapolationModel(cutout)\n",
    "cutout_model.prepare()"
   ]
  },
  {
   "cell_type": "code",
   "execution_count": 4,
   "metadata": {},
   "outputs": [
    {
     "ename": "NotImplementedError",
     "evalue": "",
     "output_type": "error",
     "traceback": [
      "\u001b[0;31m---------------------------------------------------------------------------\u001b[0m",
      "\u001b[0;31mNotImplementedError\u001b[0m                       Traceback (most recent call last)",
      "Cell \u001b[0;32mIn[4], line 1\u001b[0m\n\u001b[0;32m----> 1\u001b[0m cutout_speed \u001b[39m=\u001b[39m cutout_model\u001b[39m.\u001b[39;49mestimate(\n\u001b[1;32m      2\u001b[0m     height\u001b[39m=\u001b[39;49m\u001b[39m42\u001b[39;49m, \n\u001b[1;32m      3\u001b[0m     years\u001b[39m=\u001b[39;49m\u001b[39mslice\u001b[39;49m(\u001b[39m2010\u001b[39;49m, \u001b[39m2010\u001b[39;49m), \n\u001b[1;32m      4\u001b[0m     months\u001b[39m=\u001b[39;49m\u001b[39mslice\u001b[39;49m(\u001b[39m1\u001b[39;49m, \u001b[39m1\u001b[39;49m),\n\u001b[1;32m      5\u001b[0m     xs\u001b[39m=\u001b[39;49m\u001b[39mslice\u001b[39;49m(\u001b[39m67\u001b[39;49m, \u001b[39m125\u001b[39;49m),\n\u001b[1;32m      6\u001b[0m     ys\u001b[39m=\u001b[39;49m\u001b[39mslice\u001b[39;49m(\u001b[39m25\u001b[39;49m, \u001b[39m50\u001b[39;49m)\n\u001b[1;32m      7\u001b[0m )\n",
      "File \u001b[0;32m~/Desktop/geodata/src/geodata/model/_base.py:151\u001b[0m, in \u001b[0;36mBaseModel.estimate\u001b[0;34m(self, height, years, months, xs, ys, use_real_data)\u001b[0m\n\u001b[1;32m    141\u001b[0m \u001b[39mif\u001b[39;00m \u001b[39mself\u001b[39m\u001b[39m.\u001b[39mfrom_dataset:\n\u001b[1;32m    142\u001b[0m     \u001b[39mreturn\u001b[39;00m \u001b[39mself\u001b[39m\u001b[39m.\u001b[39m_estimate_dataset(\n\u001b[1;32m    143\u001b[0m         height\u001b[39m=\u001b[39mheight,\n\u001b[1;32m    144\u001b[0m         years\u001b[39m=\u001b[39myears,\n\u001b[0;32m   (...)\u001b[0m\n\u001b[1;32m    148\u001b[0m         use_real_data\u001b[39m=\u001b[39muse_real_data,\n\u001b[1;32m    149\u001b[0m     )\n\u001b[0;32m--> 151\u001b[0m \u001b[39mreturn\u001b[39;00m \u001b[39mself\u001b[39;49m\u001b[39m.\u001b[39;49m_estimate_cutout(\n\u001b[1;32m    152\u001b[0m     height\u001b[39m=\u001b[39;49mheight,\n\u001b[1;32m    153\u001b[0m     years\u001b[39m=\u001b[39;49myears,\n\u001b[1;32m    154\u001b[0m     months\u001b[39m=\u001b[39;49mmonths,\n\u001b[1;32m    155\u001b[0m     xs\u001b[39m=\u001b[39;49mxs,\n\u001b[1;32m    156\u001b[0m     ys\u001b[39m=\u001b[39;49mys,\n\u001b[1;32m    157\u001b[0m     use_real_data\u001b[39m=\u001b[39;49muse_real_data,\n\u001b[1;32m    158\u001b[0m )\n",
      "File \u001b[0;32m~/Desktop/geodata/src/geodata/model/wind/extrapolate.py:209\u001b[0m, in \u001b[0;36mWindExtrapolationModel._estimate_cutout\u001b[0;34m(self, height, years, months, xs, ys, use_real_data)\u001b[0m\n\u001b[1;32m    200\u001b[0m \u001b[39mdef\u001b[39;00m \u001b[39m_estimate_cutout\u001b[39m(\n\u001b[1;32m    201\u001b[0m     \u001b[39mself\u001b[39m,\n\u001b[1;32m    202\u001b[0m     height: \u001b[39mint\u001b[39m,\n\u001b[0;32m   (...)\u001b[0m\n\u001b[1;32m    207\u001b[0m     use_real_data: Optional[\u001b[39mbool\u001b[39m] \u001b[39m=\u001b[39m \u001b[39mFalse\u001b[39;00m,\n\u001b[1;32m    208\u001b[0m ) \u001b[39m-\u001b[39m\u001b[39m>\u001b[39m xr\u001b[39m.\u001b[39mDataset:\n\u001b[0;32m--> 209\u001b[0m     \u001b[39mraise\u001b[39;00m \u001b[39mNotImplementedError\u001b[39;00m\n\u001b[1;32m    210\u001b[0m     \u001b[39massert\u001b[39;00m height \u001b[39m>\u001b[39m \u001b[39m0\u001b[39m, \u001b[39m\"\u001b[39m\u001b[39mHeight must be greater than 0.\u001b[39m\u001b[39m\"\u001b[39m\n\u001b[1;32m    212\u001b[0m     \u001b[39mif\u001b[39;00m months \u001b[39mis\u001b[39;00m \u001b[39mNone\u001b[39;00m:\n",
      "\u001b[0;31mNotImplementedError\u001b[0m: "
     ]
    }
   ],
   "source": [
    "cutout_speed = cutout_model.estimate(\n",
    "    height=42, \n",
    "    years=slice(2010, 2010), \n",
    "    months=slice(1, 1),\n",
    "    xs=slice(67, 125),\n",
    "    ys=slice(25, 50)\n",
    ")"
   ]
  },
  {
   "cell_type": "code",
   "execution_count": null,
   "metadata": {},
   "outputs": [],
   "source": [
    "cutout.coords['year'].values"
   ]
  }
 ],
 "metadata": {
  "kernelspec": {
   "display_name": "Python 3 (ipykernel)",
   "language": "python",
   "name": "python3"
  },
  "language_info": {
   "codemirror_mode": {
    "name": "ipython",
    "version": 3
   },
   "file_extension": ".py",
   "mimetype": "text/x-python",
   "name": "python",
   "nbconvert_exporter": "python",
   "pygments_lexer": "ipython3",
   "version": "3.11.4"
  }
 },
 "nbformat": 4,
 "nbformat_minor": 2
}
