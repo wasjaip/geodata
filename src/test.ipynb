{
 "cells": [
  {
   "cell_type": "code",
   "execution_count": null,
   "metadata": {},
   "outputs": [],
   "source": [
    "from geodata import Dataset, Cutout\n",
    "from geodata.model.wind import WindExtrapolationModel\n",
    "import matplotlib.pyplot as plt\n",
    "import xarray as xr"
   ]
  },
  {
   "cell_type": "markdown",
   "metadata": {},
   "source": [
    "### Dataset Testing"
   ]
  },
  {
   "cell_type": "code",
   "execution_count": null,
   "metadata": {},
   "outputs": [],
   "source": [
    "dataset = Dataset(\n",
    "    module=\"merra2\",\n",
    "    weather_data_config=\"slv_flux_hourly\",\n",
    "    years=slice(2010, 2010),\n",
    "    months=slice(1,1)\n",
    ")\n",
    "\n",
    "model = WindExtrapolationModel(dataset)\n",
    "model.prepare()"
   ]
  },
  {
   "cell_type": "code",
   "execution_count": null,
   "metadata": {},
   "outputs": [],
   "source": [
    "speed1 = model.estimate(\n",
    "    height=2,\n",
    "    years=slice(2010, 2010),\n",
    "    months=slice(1, 1)\n",
    ")"
   ]
  },
  {
   "cell_type": "code",
   "execution_count": null,
   "metadata": {},
   "outputs": [],
   "source": [
    "speed1loc = speed1.isel(lat=0, lon=0)\n",
    "speed1loc = speed1loc.load()"
   ]
  },
  {
   "cell_type": "code",
   "execution_count": null,
   "metadata": {},
   "outputs": [],
   "source": [
    "speed2 = model.estimate(\n",
    "    height=10,\n",
    "    years=slice(2010, 2010),\n",
    "    months=slice(1, 1)\n",
    ")"
   ]
  },
  {
   "cell_type": "code",
   "execution_count": null,
   "metadata": {},
   "outputs": [],
   "source": [
    "speed2loc = speed2.isel(lat=0, lon=0)\n",
    "speed2loc = speed2loc.load()"
   ]
  },
  {
   "cell_type": "code",
   "execution_count": null,
   "metadata": {},
   "outputs": [],
   "source": [
    "speed3 = model.estimate(\n",
    "    height=50,\n",
    "    years=slice(2010, 2010),\n",
    "    months=slice(1, 1)\n",
    ")"
   ]
  },
  {
   "cell_type": "code",
   "execution_count": null,
   "metadata": {},
   "outputs": [],
   "source": [
    "speed3loc = speed3.isel(lat=0, lon=0)\n",
    "speed3loc = speed3loc.load()"
   ]
  },
  {
   "cell_type": "code",
   "execution_count": null,
   "metadata": {},
   "outputs": [],
   "source": [
    "speed4 = model.estimate(\n",
    "    height=80, # extrapolation in high heights\n",
    "    years=slice(2010, 2010),\n",
    "    months=slice(1, 1)\n",
    ")"
   ]
  },
  {
   "cell_type": "code",
   "execution_count": null,
   "metadata": {},
   "outputs": [],
   "source": [
    "speed4loc = speed4.isel(lat=0, lon=0)\n",
    "speed4loc = speed4loc.load()"
   ]
  },
  {
   "cell_type": "code",
   "execution_count": null,
   "metadata": {},
   "outputs": [],
   "source": [
    "plt.plot(speed1loc, label='H = 2');\n",
    "plt.plot(speed2loc, label='H = 10');\n",
    "plt.plot(speed3loc, label='H = 50');\n",
    "plt.plot(speed4loc, label='H = 80');\n",
    "plt.legend()\n",
    "plt.show()"
   ]
  },
  {
   "cell_type": "code",
   "execution_count": null,
   "metadata": {},
   "outputs": [],
   "source": [
    "plt.plot([2, 10, 50, 80], \n",
    "         [speed1.isel(lon=0, lat=0, time=0).values,\n",
    "          speed2.isel(lon=0, lat=0, time=0).values,\n",
    "          speed3.isel(lon=0, lat=0, time=0).values,\n",
    "          speed4.isel(lon=0, lat=0, time=0).values]\n",
    "        );"
   ]
  },
  {
   "cell_type": "markdown",
   "metadata": {},
   "source": [
    "### Cutout Testing"
   ]
  },
  {
   "cell_type": "code",
   "execution_count": 1,
   "metadata": {},
   "outputs": [
    {
     "name": "stderr",
     "output_type": "stream",
     "text": [
      "/Library/Frameworks/Python.framework/Versions/3.11/lib/python3.11/site-packages/tqdm/auto.py:21: TqdmWarning: IProgress not found. Please update jupyter and ipywidgets. See https://ipywidgets.readthedocs.io/en/stable/user_install.html\n",
      "  from .autonotebook import tqdm as notebook_tqdm\n",
      "\u001b[33;1m2023-09-09 15:11:51,819 - geodata - WARNING - Numba not installed. Using pure Python implementation.\u001b[0m\n"
     ]
    }
   ],
   "source": [
    "from geodata import Dataset, Cutout\n",
    "from geodata.model.wind import WindExtrapolationModel\n",
    "import matplotlib.pyplot as plt\n",
    "import xarray as xr"
   ]
  },
  {
   "cell_type": "code",
   "execution_count": 2,
   "metadata": {},
   "outputs": [
    {
     "name": "stderr",
     "output_type": "stream",
     "text": [
      "\u001b[32m2023-09-09 15:11:51,845 - geodata.cutout - INFO - All cutout (tokyo-2010-test, /Users/apple/.local/geodata/cutouts) files available.\u001b[0m\n",
      "\u001b[32m2023-09-09 15:11:51,848 - geodata.cutout - INFO - Cutout subset prepared: <Cutout tokyo-2010-test x=138.75-139.38 y=35.00-36.00 time=2010/1-2010/1 prepared>\u001b[0m\n"
     ]
    }
   ],
   "source": [
    "cutout = Cutout(\n",
    "    name=\"tokyo-2010-test\",\n",
    "    module=\"merra2\",\n",
    "    weather_data_config=\"slv_flux_hourly\",\n",
    "    xs=slice(138.5, 139.5),\n",
    "    ys=slice(35, 36),\n",
    "    years=slice(2010, 2010),\n",
    "    months=slice(1, 1),\n",
    ")"
   ]
  },
  {
   "cell_type": "code",
   "execution_count": 3,
   "metadata": {},
   "outputs": [
    {
     "name": "stderr",
     "output_type": "stream",
     "text": [
      "\u001b[32m2023-09-09 15:11:51,852 - geodata - INFO - The model is already prepared.\u001b[0m\n"
     ]
    }
   ],
   "source": [
    "cutout_model = WindExtrapolationModel(cutout)\n",
    "cutout_model.prepare()"
   ]
  },
  {
   "cell_type": "code",
   "execution_count": 4,
   "metadata": {},
   "outputs": [
    {
     "name": "stderr",
     "output_type": "stream",
     "text": [
      "/Library/Frameworks/Python.framework/Versions/3.11/lib/python3.11/site-packages/dask/core.py:121: RuntimeWarning: overflow encountered in exp\n",
      "  return func(*(_execute_task(a, cache) for a in args))\n"
     ]
    }
   ],
   "source": [
    "cutout_speed = cutout_model.estimate(\n",
    "    height=42, \n",
    "    years=slice(2010, 2010), \n",
    "    months=slice(1, 1),\n",
    "    xs=slice(138, 139),\n",
    "    ys=slice(35, 36)\n",
    ")"
   ]
  },
  {
   "cell_type": "code",
   "execution_count": 5,
   "metadata": {},
   "outputs": [
    {
     "name": "stderr",
     "output_type": "stream",
     "text": [
      "/Library/Frameworks/Python.framework/Versions/3.11/lib/python3.11/site-packages/dask/core.py:121: RuntimeWarning: overflow encountered in exp\n",
      "  return func(*(_execute_task(a, cache) for a in args))\n",
      "/Library/Frameworks/Python.framework/Versions/3.11/lib/python3.11/site-packages/dask/core.py:121: RuntimeWarning: divide by zero encountered in divide\n",
      "  return func(*(_execute_task(a, cache) for a in args))\n",
      "/Library/Frameworks/Python.framework/Versions/3.11/lib/python3.11/site-packages/dask/core.py:121: RuntimeWarning: divide by zero encountered in log\n",
      "  return func(*(_execute_task(a, cache) for a in args))\n"
     ]
    }
   ],
   "source": [
    "cutout_speed1 = cutout_speed.isel(lat=0, lon=0)\n",
    "cutout_speed1 = cutout_speed1.load()"
   ]
  },
  {
   "cell_type": "code",
   "execution_count": 6,
   "metadata": {},
   "outputs": [
    {
     "data": {
      "text/plain": [
       "array([[[ 9.91601744],\n",
       "        [ 9.91009058],\n",
       "        [ 9.98986984]],\n",
       "\n",
       "       [[10.29389625],\n",
       "        [10.28764811],\n",
       "        [10.3717573 ]],\n",
       "\n",
       "       [[10.80684031],\n",
       "        [10.80019476],\n",
       "        [10.88965365]],\n",
       "\n",
       "       ...,\n",
       "\n",
       "       [[ 6.46844017],\n",
       "        [ 6.46481127],\n",
       "        [ 6.51249956]],\n",
       "\n",
       "       [[ 6.30711579],\n",
       "        [ 6.30364624],\n",
       "        [ 6.34924203]],\n",
       "\n",
       "       [[ 6.75331492],\n",
       "        [ 6.7497609 ],\n",
       "        [ 6.79645385]]])"
      ]
     },
     "execution_count": 6,
     "metadata": {},
     "output_type": "execute_result"
    }
   ],
   "source": [
    "cutout_speed1.values"
   ]
  }
 ],
 "metadata": {
  "kernelspec": {
   "display_name": "Python 3 (ipykernel)",
   "language": "python",
   "name": "python3"
  },
  "language_info": {
   "codemirror_mode": {
    "name": "ipython",
    "version": 3
   },
   "file_extension": ".py",
   "mimetype": "text/x-python",
   "name": "python",
   "nbconvert_exporter": "python",
   "pygments_lexer": "ipython3",
   "version": "3.11.4"
  }
 },
 "nbformat": 4,
 "nbformat_minor": 2
}
